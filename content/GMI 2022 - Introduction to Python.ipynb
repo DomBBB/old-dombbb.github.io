{
 "cells": [
  {
   "cell_type": "markdown",
   "metadata": {},
   "source": [
    "# Fundamentals of Computer Science\n",
    "## Introduction to Python"
   ]
  },
  {
   "cell_type": "markdown",
   "metadata": {},
   "source": [
    "# 1. Basics"
   ]
  },
  {
   "cell_type": "markdown",
   "metadata": {},
   "source": [
    "## 1.1a Keywords & Identifiers\n",
    "Keywords are reserved words that define the python structure.\n",
    "\n",
    "(Note: lowercase except True, False & None)."
   ]
  },
  {
   "cell_type": "code",
   "execution_count": 1,
   "metadata": {},
   "outputs": [
    {
     "data": {
      "text/plain": [
       "['False',\n",
       " 'None',\n",
       " 'True',\n",
       " 'and',\n",
       " 'as',\n",
       " 'assert',\n",
       " 'async',\n",
       " 'await',\n",
       " 'break',\n",
       " 'class',\n",
       " 'continue',\n",
       " 'def',\n",
       " 'del',\n",
       " 'elif',\n",
       " 'else',\n",
       " 'except',\n",
       " 'finally',\n",
       " 'for',\n",
       " 'from',\n",
       " 'global',\n",
       " 'if',\n",
       " 'import',\n",
       " 'in',\n",
       " 'is',\n",
       " 'lambda',\n",
       " 'nonlocal',\n",
       " 'not',\n",
       " 'or',\n",
       " 'pass',\n",
       " 'raise',\n",
       " 'return',\n",
       " 'try',\n",
       " 'while',\n",
       " 'with',\n",
       " 'yield']"
      ]
     },
     "execution_count": 1,
     "metadata": {},
     "output_type": "execute_result"
    }
   ],
   "source": [
    "import keyword\n",
    "keyword.kwlist"
   ]
  },
  {
   "cell_type": "markdown",
   "metadata": {},
   "source": [
    "Identifiers are the names we assign to classes, functions or variables. Python is case sensitive, therefore\n",
    "we can use lowercase a-z, uppercase A-Z, digits (0-9) and underscores _ for our names.\n",
    "\n",
    "It is important to know, that a keyword can **not be an identifier** & that identifiers can **not start with digits**."
   ]
  },
  {
   "cell_type": "markdown",
   "metadata": {},
   "source": [
    "## 1.1b Statements & Comments"
   ]
  },
  {
   "cell_type": "markdown",
   "metadata": {},
   "source": [
    "Statements are instructions that a Python interpreter can execute. We differentiate between assignment statements\n",
    "with the assignment symbol (e.g. `a = 5`) and other statements (e.g. while). Statements end with a new line.\n",
    "\n",
    "(Multiple statements on one line are possible using ; )\n",
    "\n",
    "(Single statements over multiple lines are possible using \\ before the new line or brackets/braces [], (), {})\n",
    "\n",
    "\n",
    "We write codeblocks by using indentation. Any indentation is possible, however it is recommended to use 4 whitespaces\n",
    "(you can also use the tabulator). Incorrect indentation will result in Indentation Error."
   ]
  },
  {
   "cell_type": "markdown",
   "metadata": {},
   "source": [
    "Comments are used to explain your code. Everything after `#` to the newline is ignored by Python.\n",
    "Starting on a new line we can also use triple quotes `'''`/`\"\"\"` around our comment."
   ]
  },
  {
   "cell_type": "markdown",
   "metadata": {},
   "source": [
    "## 1.2a Variables and printing\n",
    "We can write a one liner program and immediately execute this code."
   ]
  },
  {
   "cell_type": "code",
   "execution_count": 2,
   "metadata": {},
   "outputs": [
    {
     "data": {
      "text/plain": [
       "4"
      ]
     },
     "execution_count": 2,
     "metadata": {},
     "output_type": "execute_result"
    }
   ],
   "source": [
    "2+2"
   ]
  },
  {
   "cell_type": "markdown",
   "metadata": {},
   "source": [
    "To write bigger programs we use variables which are named using an identifier (remember the naming rules).\n",
    "It is recommended to use identifiers which explain the variable. If you use several words, use underscore or\n",
    "uppercase characters to make the variables and your code overall better readable.\n",
    "\n",
    "**At this point it is also important to note, that you can break Python if you use a word for your variable name,\n",
    "that serves another purpose in python. E.g. if you use `print=42`, you won't be able to use the `print()` function anymore.**\n",
    "\n",
    "Built-in Functions: https://docs.python.org/3/library/functions.html"
   ]
  },
  {
   "cell_type": "code",
   "execution_count": 3,
   "metadata": {},
   "outputs": [
    {
     "data": {
      "text/plain": [
       "10"
      ]
     },
     "execution_count": 3,
     "metadata": {},
     "output_type": "execute_result"
    }
   ],
   "source": [
    "zw = 2\n",
    "csskjyd = 3\n",
    "thisisaverylongandhardtoreadvariable = 5\n",
    "\n",
    "zw + csskjyd + thisisaverylongandhardtoreadvariable"
   ]
  },
  {
   "cell_type": "code",
   "execution_count": 4,
   "metadata": {},
   "outputs": [
    {
     "data": {
      "text/plain": [
       "10"
      ]
     },
     "execution_count": 4,
     "metadata": {},
     "output_type": "execute_result"
    }
   ],
   "source": [
    "number1 = 2\n",
    "number2 = 3\n",
    "this_isEasier_toRead = 5\n",
    "number1 + number2 + this_isEasier_toRead"
   ]
  },
  {
   "cell_type": "markdown",
   "metadata": {},
   "source": [
    "We can also assign the same or multiple values to multiple variables."
   ]
  },
  {
   "cell_type": "code",
   "execution_count": 5,
   "metadata": {},
   "outputs": [
    {
     "data": {
      "text/plain": [
       "12"
      ]
     },
     "execution_count": 5,
     "metadata": {},
     "output_type": "execute_result"
    }
   ],
   "source": [
    "a, b, c = 5, 4, 3\n",
    "\"\"\"\n",
    "a = 5\n",
    "b = 4\n",
    "c = 5\n",
    "\"\"\"\n",
    "a + b + c"
   ]
  },
  {
   "cell_type": "code",
   "execution_count": 6,
   "metadata": {},
   "outputs": [
    {
     "data": {
      "text/plain": [
       "15"
      ]
     },
     "execution_count": 6,
     "metadata": {},
     "output_type": "execute_result"
    }
   ],
   "source": [
    "a = b = c = 5\n",
    "a + b + c"
   ]
  },
  {
   "cell_type": "markdown",
   "metadata": {},
   "source": [
    "To print values in python we usually use the `print()` function."
   ]
  },
  {
   "cell_type": "code",
   "execution_count": 7,
   "metadata": {},
   "outputs": [
    {
     "name": "stdout",
     "output_type": "stream",
     "text": [
      "25 30\n"
     ]
    }
   ],
   "source": [
    "number1 = 25\n",
    "number2 = 30\n",
    "print(number1, number2)"
   ]
  },
  {
   "cell_type": "markdown",
   "metadata": {},
   "source": [
    "However as you might have noticed earlier, in some programs (e.g. here in Jupyter we can print values directly)."
   ]
  },
  {
   "cell_type": "code",
   "execution_count": 8,
   "metadata": {},
   "outputs": [
    {
     "data": {
      "text/plain": [
       "30"
      ]
     },
     "execution_count": 8,
     "metadata": {},
     "output_type": "execute_result"
    }
   ],
   "source": [
    "number1\n",
    "number2"
   ]
  },
  {
   "cell_type": "markdown",
   "metadata": {},
   "source": [
    "## 1.2b Important understanding about the assignment symbol"
   ]
  },
  {
   "cell_type": "code",
   "execution_count": 9,
   "metadata": {},
   "outputs": [
    {
     "name": "stdout",
     "output_type": "stream",
     "text": [
      "[1, 2, 3, 4]\n"
     ]
    }
   ],
   "source": [
    "a = [1, 2, 3]\n",
    "a.append(4)\n",
    "print(a)"
   ]
  },
  {
   "cell_type": "markdown",
   "metadata": {},
   "source": [
    "First we assign the reference to a newly created object ([1, 2, 3]) to the variable a with the assignment symbol `=`.\n",
    "Then we use some code which uses the reference to the object, to work its magic on the underlying object."
   ]
  },
  {
   "cell_type": "code",
   "execution_count": 10,
   "metadata": {},
   "outputs": [
    {
     "name": "stdout",
     "output_type": "stream",
     "text": [
      "[1, 2, 3, 4]\n",
      "[1, 2, 3, 4]\n"
     ]
    }
   ],
   "source": [
    "print(a)\n",
    "b = a\n",
    "print(b)"
   ]
  },
  {
   "cell_type": "markdown",
   "metadata": {},
   "source": [
    "We can use our previously defined variable again (the reference and the object are stored). Then we use another variable\n",
    "(b) and assign a reference to the variable a, which in turn references to the underlying object."
   ]
  },
  {
   "cell_type": "code",
   "execution_count": 11,
   "metadata": {},
   "outputs": [
    {
     "name": "stdout",
     "output_type": "stream",
     "text": [
      "[1, 2, 3, 4, 5]\n",
      "[1, 2, 3, 4, 5]\n"
     ]
    }
   ],
   "source": [
    "b.append(5)\n",
    "print(a)\n",
    "print(b)"
   ]
  },
  {
   "cell_type": "markdown",
   "metadata": {},
   "source": [
    "If we understand the assignment symbol as a reference, b -> a -> [1,2,3,4,5] it makes sense, that using some code on b,\n",
    "we don't change b, but the referenced variable a, which in turn changes the referenced object [1,2,3,4]."
   ]
  },
  {
   "cell_type": "markdown",
   "metadata": {},
   "source": [
    "## 1.2c Immutable and Mutable data"
   ]
  },
  {
   "cell_type": "markdown",
   "metadata": {},
   "source": [
    "It is important to understand the difference between Immutable (unchangeable) and mutable (changeable).\n",
    "In Python some objects can be altered and some can not.\n",
    "\n",
    "Numbers for example are immutable, so if you reference a number and want to reference a new number, the new number is\n",
    "a new object with. On the other hand a list [1,2,3,4] is mutable and therefore we can alter it (like we did before)."
   ]
  },
  {
   "cell_type": "markdown",
   "metadata": {},
   "source": [
    "## 1.3 Numbers\n",
    "Numbers are immutable and there are two types: Natural numbers (integer) and numbers with decimals (float). **Calculating with two integers results in an integer (except for division). Calculating with one float or two floats results in a float.**\n",
    "\n",
    "(Numbers can also be complex, but you should not have to know this functionality.)"
   ]
  },
  {
   "cell_type": "code",
   "execution_count": 12,
   "metadata": {},
   "outputs": [],
   "source": [
    "length = 10 # This is an integer\n",
    "width = 12.5 # This is a float"
   ]
  },
  {
   "cell_type": "markdown",
   "metadata": {},
   "source": [
    "We can run regular math operations on these numbers."
   ]
  },
  {
   "cell_type": "code",
   "execution_count": 13,
   "metadata": {},
   "outputs": [
    {
     "name": "stdout",
     "output_type": "stream",
     "text": [
      "5\n",
      "-1\n",
      "6\n",
      "0.6666666666666666\n",
      "8\n"
     ]
    }
   ],
   "source": [
    "a = 2\n",
    "b = 3\n",
    "c = a + b\n",
    "print(c)\n",
    "c = a - b\n",
    "print(c)\n",
    "c = a * b\n",
    "print(c)\n",
    "c = a / b # Divisions will always result in floats, even if you have two integers - ROUNDS DOWN (also for negative numbers)\n",
    "print(c)\n",
    "c = a**b # a^b\n",
    "print(c)"
   ]
  },
  {
   "cell_type": "markdown",
   "metadata": {},
   "source": [
    "We can also perform an integer division, which drops the after comma digits."
   ]
  },
  {
   "cell_type": "code",
   "execution_count": 14,
   "metadata": {},
   "outputs": [
    {
     "name": "stdout",
     "output_type": "stream",
     "text": [
      "5\n",
      "2\n"
     ]
    }
   ],
   "source": [
    "print(10//2)\n",
    "print(10//4)"
   ]
  },
  {
   "cell_type": "markdown",
   "metadata": {},
   "source": [
    "When we want to know the remainder of the operation, we use the modulo operator `%` which is native to python."
   ]
  },
  {
   "cell_type": "code",
   "execution_count": 15,
   "metadata": {},
   "outputs": [
    {
     "name": "stdout",
     "output_type": "stream",
     "text": [
      "These should be the same:\n",
      "124\n",
      "124\n"
     ]
    }
   ],
   "source": [
    "total_pieces_of_bread = 124\n",
    "average_consumption = 3\n",
    "children_that_i_can_feed = 124 // 3\n",
    "\n",
    "pieces_left_over = 124 % 3\n",
    "\n",
    "print(\"These should be the same:\")\n",
    "print(total_pieces_of_bread)\n",
    "print((children_that_i_can_feed * 3) + pieces_left_over)"
   ]
  },
  {
   "cell_type": "markdown",
   "metadata": {},
   "source": [
    "If we want to just alter a numeric variable, we can put the operator in front of the `=` sign."
   ]
  },
  {
   "cell_type": "code",
   "execution_count": 16,
   "metadata": {},
   "outputs": [
    {
     "name": "stdout",
     "output_type": "stream",
     "text": [
      "6\n",
      "1\n",
      "5\n",
      "1.0\n"
     ]
    }
   ],
   "source": [
    "x = 1\n",
    "x += 5 # instead of x = x + 5\n",
    "print(x)\n",
    "x -= 5\n",
    "print(x)\n",
    "x *= 5\n",
    "print(x)\n",
    "x /= 5\n",
    "print(x)\n",
    "\n",
    "# and %= ; //= ; **="
   ]
  },
  {
   "cell_type": "markdown",
   "metadata": {},
   "source": [
    "Order: **PEMDAS** (Parentheses, Exponentiation, Multiplication/Division, Addition/Substraction) and within each class from left to right."
   ]
  },
  {
   "cell_type": "markdown",
   "metadata": {},
   "source": [
    "## 1.4 Strings\n",
    "Strings are immutable and defined as single characters, words or sentences surrounded by quotes (`'a'` or `\"a\"`).\n",
    "We use this to our advantage, when we want to embed a quote in our string (use single quotes in double or triple quotes or double quotes in single or triple quotes (or the escape character \\ right before the quote)).\n",
    "\n",
    "(\\ is the continuation character (to write multiline statements or strings), if we use a character immediately after, we call \\ the escape character and the whole sequence escape sequence (e.g. \\n is an escape sequence to represent a newline character).)"
   ]
  },
  {
   "cell_type": "code",
   "execution_count": 17,
   "metadata": {},
   "outputs": [
    {
     "name": "stdout",
     "output_type": "stream",
     "text": [
      "Ruth Bader Ginsburg is famous to have said: \"I don’t say women’s rights — I say the constitutional \"principle\" of the equal citizenship stature of men and women.\"\n"
     ]
    }
   ],
   "source": [
    "quoted_text = 'Ruth Bader Ginsburg is famous to have said: \\\"I don’t say women’s rights — I say the constitutional \"principle\" of the equal citizenship stature of men and women.\\\"'\n",
    "print(quoted_text)"
   ]
  },
  {
   "cell_type": "markdown",
   "metadata": {},
   "source": [
    "We can also use operations on our string to concatenate or repeat:"
   ]
  },
  {
   "cell_type": "code",
   "execution_count": 18,
   "metadata": {},
   "outputs": [
    {
     "name": "stdout",
     "output_type": "stream",
     "text": [
      "Hello, my name is Dominik Buchegger\n",
      "Dominik Dominik Dominik Dominik Dominik Dominik Dominik \n"
     ]
    }
   ],
   "source": [
    "first_name = \"Dominik\"\n",
    "last_name = \"Buchegger\"\n",
    "\n",
    "\n",
    "full_name = first_name + \" \" + last_name # string concatenation - remember to add white spaces\n",
    "print(\"Hello, my name is \" + full_name)\n",
    "\n",
    "print((first_name + \" \")*7)"
   ]
  },
  {
   "cell_type": "markdown",
   "metadata": {},
   "source": [
    "Sometimes we want to print a string without **hardcoding** variables. We have different options to do this:"
   ]
  },
  {
   "cell_type": "code",
   "execution_count": 19,
   "metadata": {},
   "outputs": [
    {
     "name": "stdout",
     "output_type": "stream",
     "text": [
      "Hello my family name is Buchegger, but you can call me Dominik.\n",
      "Hello my family name is Buchegger, but you can call me Dominik.\n",
      "Hello my family name is Buchegger, but you can call me Dominik.\n",
      "Hello my family name is Buchegger, but you can call me Dominik.\n"
     ]
    }
   ],
   "source": [
    "# Curly brackets\n",
    "text = \"Hello my family name is {}, but you can call me {}.\".format(last_name,first_name) # values have to be in order\n",
    "print(text)\n",
    "\n",
    "# Named curly brackets v1\n",
    "text = \"Hello my family name is {last}, but you can call me {first}.\".format(first=first_name, last=last_name)\n",
    "print(text)\n",
    "\n",
    "# Named curly brackets v2\n",
    "text = \"Hello my family name is {last}, but you can call me {first}.\"\n",
    "print(text.format(first=first_name, last=last_name))\n",
    "\n",
    "# f-string (insert values directly in the string)\n",
    "print(f\"Hello my family name is {last_name}, but you can call me {first_name}.\")"
   ]
  },
  {
   "cell_type": "markdown",
   "metadata": {},
   "source": [
    "## Excursus User Input\n",
    "Python provides input() to ask the user for input. If you enter quotes, they are input as part of the string."
   ]
  },
  {
   "cell_type": "code",
   "execution_count": 20,
   "metadata": {},
   "outputs": [
    {
     "name": "stdout",
     "output_type": "stream",
     "text": [
      "Welcome! What is your name?Dominik\n",
      "Hello Dominik!\n"
     ]
    },
    {
     "data": {
      "text/plain": [
       "'Dominik12'"
      ]
     },
     "execution_count": 20,
     "metadata": {},
     "output_type": "execute_result"
    }
   ],
   "source": [
    "user = input(\"Welcome! What is your name?\")\n",
    "print(f\"Hello {user}!\")\n",
    "\n",
    "user+str(12)"
   ]
  },
  {
   "cell_type": "markdown",
   "metadata": {},
   "source": [
    "**The function only returns a string.** However you can convert strings to numbers (which we'll see later on)."
   ]
  },
  {
   "cell_type": "markdown",
   "metadata": {},
   "source": [
    "## 1.5 Booleans\n",
    "A lot of programming involves basic logic to make binary (yes/no) decisions. Booleans are pythons object type to\n",
    "represent logical values."
   ]
  },
  {
   "cell_type": "code",
   "execution_count": 21,
   "metadata": {},
   "outputs": [
    {
     "name": "stdout",
     "output_type": "stream",
     "text": [
      "True\n",
      "False\n"
     ]
    }
   ],
   "source": [
    "is_true = True\n",
    "is_false = False\n",
    "print(is_true)\n",
    "print(is_false)"
   ]
  },
  {
   "cell_type": "markdown",
   "metadata": {},
   "source": [
    "We can make logical deductions using or, and & not as logical operators on booleans"
   ]
  },
  {
   "cell_type": "code",
   "execution_count": 22,
   "metadata": {},
   "outputs": [
    {
     "name": "stdout",
     "output_type": "stream",
     "text": [
      "True\n",
      "True\n",
      "True\n",
      "False\n"
     ]
    }
   ],
   "source": [
    "print(True or True)\n",
    "print(True or False)\n",
    "print(False or True)\n",
    "print(False or False)"
   ]
  },
  {
   "cell_type": "code",
   "execution_count": 23,
   "metadata": {},
   "outputs": [
    {
     "name": "stdout",
     "output_type": "stream",
     "text": [
      "True\n",
      "False\n",
      "False\n",
      "False\n"
     ]
    }
   ],
   "source": [
    "print(True and True)\n",
    "print(True and False)\n",
    "print(False and True)\n",
    "print(False and False)"
   ]
  },
  {
   "cell_type": "code",
   "execution_count": 24,
   "metadata": {},
   "outputs": [
    {
     "name": "stdout",
     "output_type": "stream",
     "text": [
      "False\n"
     ]
    }
   ],
   "source": [
    "print(not True)"
   ]
  },
  {
   "cell_type": "markdown",
   "metadata": {},
   "source": [
    "We can also check for certain conditions"
   ]
  },
  {
   "cell_type": "code",
   "execution_count": 25,
   "metadata": {},
   "outputs": [
    {
     "name": "stdout",
     "output_type": "stream",
     "text": [
      "False\n",
      "False\n",
      "True\n",
      "True\n",
      "True\n",
      "True\n"
     ]
    }
   ],
   "source": [
    "print(7 > 8)\n",
    "print(7 > 7)\n",
    "print(7 == 7)\n",
    "print(7 != 8)\n",
    "print(7 >= 7)\n",
    "print(7 <= 7)"
   ]
  },
  {
   "cell_type": "markdown",
   "metadata": {},
   "source": [
    "Or check for equalities and inequalities"
   ]
  },
  {
   "cell_type": "code",
   "execution_count": 26,
   "metadata": {},
   "outputs": [
    {
     "name": "stdout",
     "output_type": "stream",
     "text": [
      "True\n",
      "True\n"
     ]
    }
   ],
   "source": [
    "print(\"My text\" == \"My text\")\n",
    "print(14 != 17)"
   ]
  },
  {
   "cell_type": "markdown",
   "metadata": {},
   "source": [
    "We can already build basic workflows with the tools we know so far"
   ]
  },
  {
   "cell_type": "code",
   "execution_count": 27,
   "metadata": {},
   "outputs": [
    {
     "name": "stdout",
     "output_type": "stream",
     "text": [
      "How much oil does your tanker carry? 5500\n",
      "Our tank can store the ship's oil: False\n"
     ]
    }
   ],
   "source": [
    "oil_tank_volume = 4400\n",
    "user_oil_amount = int(input(\"How much oil does your tanker carry? \"))\n",
    "\n",
    "boolean_comparison = oil_tank_volume >= user_oil_amount \n",
    "print(f\"Our tank can store the ship's oil: {boolean_comparison}\")"
   ]
  },
  {
   "cell_type": "markdown",
   "metadata": {},
   "source": [
    "## 1.6 Collections\n",
    "Collections are a collection of multiple items. We can differentiate between mutable and immutable collections with\n",
    "different purposes."
   ]
  },
  {
   "cell_type": "markdown",
   "metadata": {},
   "source": [
    "## 1.6a Lists (mutable)\n",
    "Lists are ordered sequences of items and are declared by enclosing comma separated items with brackets [] ."
   ]
  },
  {
   "cell_type": "code",
   "execution_count": 28,
   "metadata": {},
   "outputs": [
    {
     "data": {
      "text/plain": [
       "['Bananas', 'Apples', 'Oranges']"
      ]
     },
     "execution_count": 28,
     "metadata": {},
     "output_type": "execute_result"
    }
   ],
   "source": [
    "shopping_list = [\"Bananas\", \"Apples\", \"Oranges\"]\n",
    "shopping_list"
   ]
  },
  {
   "cell_type": "markdown",
   "metadata": {},
   "source": [
    "In Python, lists can contain multiple object types (even other lists)"
   ]
  },
  {
   "cell_type": "code",
   "execution_count": 29,
   "metadata": {},
   "outputs": [
    {
     "data": {
      "text/plain": [
       "['Soy Milk', 42, 17.3, True]"
      ]
     },
     "execution_count": 29,
     "metadata": {},
     "output_type": "execute_result"
    }
   ],
   "source": [
    "mylist = [\"Soy Milk\", 42, 17.3, True]\n",
    "mylist"
   ]
  },
  {
   "cell_type": "code",
   "execution_count": 30,
   "metadata": {},
   "outputs": [
    {
     "data": {
      "text/plain": [
       "[['Apples', 5], ['Bananas', 2], ['Soy Milk', 1]]"
      ]
     },
     "execution_count": 30,
     "metadata": {},
     "output_type": "execute_result"
    }
   ],
   "source": [
    "nested_list = [[\"Apples\",5],[\"Bananas\",2],[\"Soy Milk\", 1]]\n",
    "nested_list"
   ]
  },
  {
   "cell_type": "code",
   "execution_count": 31,
   "metadata": {},
   "outputs": [
    {
     "data": {
      "text/plain": [
       "[['Apples', 5],\n",
       " ['Bananas', 2],\n",
       " ['Soy Milk', 1],\n",
       " ['Oranges', 9],\n",
       " ['Aperol Spritz', 2],\n",
       " ['Sparkling water', 2],\n",
       " ['Prosecco', 3]]"
      ]
     },
     "execution_count": 31,
     "metadata": {},
     "output_type": "execute_result"
    }
   ],
   "source": [
    "indented_nested_list = [\n",
    "                        [\"Apples\",5],\n",
    "                        [\"Bananas\",2],\n",
    "                        [\"Soy Milk\", 1],\n",
    "                        [\"Oranges\", 9],\n",
    "                        [\"Aperol Spritz\", 2],\n",
    "                        [\"Sparkling water\",2],\n",
    "                        [\"Prosecco\",3]\n",
    "                       ]\n",
    "indented_nested_list"
   ]
  },
  {
   "cell_type": "markdown",
   "metadata": {},
   "source": [
    "We can also use operations on lists"
   ]
  },
  {
   "cell_type": "code",
   "execution_count": 32,
   "metadata": {},
   "outputs": [
    {
     "data": {
      "text/plain": [
       "[['Apples', 5],\n",
       " ['Bananas', 2],\n",
       " ['Soy Milk', 1],\n",
       " ['Oranges', 9],\n",
       " ['Aperol Spritz', 2],\n",
       " ['Sparkling water', 2],\n",
       " ['Prosecco', 3],\n",
       " 'Soy Milk',\n",
       " 42,\n",
       " 17.3,\n",
       " True]"
      ]
     },
     "execution_count": 32,
     "metadata": {},
     "output_type": "execute_result"
    }
   ],
   "source": [
    "my_big_list = indented_nested_list + mylist\n",
    "my_big_list"
   ]
  },
  {
   "cell_type": "code",
   "execution_count": 33,
   "metadata": {},
   "outputs": [
    {
     "data": {
      "text/plain": [
       "['Soy Milk',\n",
       " 42,\n",
       " 17.3,\n",
       " True,\n",
       " 'Soy Milk',\n",
       " 42,\n",
       " 17.3,\n",
       " True,\n",
       " 'Soy Milk',\n",
       " 42,\n",
       " 17.3,\n",
       " True]"
      ]
     },
     "execution_count": 33,
     "metadata": {},
     "output_type": "execute_result"
    }
   ],
   "source": [
    "mytriplelist = mylist * 3\n",
    "mytriplelist"
   ]
  },
  {
   "cell_type": "markdown",
   "metadata": {},
   "source": [
    "We can access individual items in the list using either the index or slicing. *We can use this same logic also on strings.*\n",
    "\n",
    "However it is important to understand the difference between using the index or slices."
   ]
  },
  {
   "cell_type": "code",
   "execution_count": 34,
   "metadata": {},
   "outputs": [
    {
     "name": "stdout",
     "output_type": "stream",
     "text": [
      "['Soy Milk', 42, 17.3, True]\n",
      "Soy Milk\n",
      "42\n",
      "True\n",
      "[['Apples', 5], ['Bananas', 2], ['Soy Milk', 1]]\n",
      "5\n"
     ]
    }
   ],
   "source": [
    "# Index\n",
    "print(mylist)\n",
    "print(mylist[0]) # Indeces of items always start at 0 in Python\n",
    "print(mylist[1])\n",
    "print(mylist[-1]) # Print the last item without knowing how long the list is\n",
    "\n",
    "print(nested_list)\n",
    "print(nested_list[0][1]) #apply multiply indeces if the list is nested"
   ]
  },
  {
   "cell_type": "code",
   "execution_count": 35,
   "metadata": {},
   "outputs": [
    {
     "name": "stdout",
     "output_type": "stream",
     "text": [
      "['Soy Milk', 42, 17.3, True]\n",
      "['Soy Milk', 42]\n",
      "[42, 17.3]\n",
      "['Soy Milk', 42]\n",
      "[17.3, True]\n"
     ]
    }
   ],
   "source": [
    "# Slicing\n",
    "print(mylist)\n",
    "print(mylist[0:2]) # inclusive start index, exclusive end index: | 0 | 1 | 2 | 3 |\n",
    "print(mylist[1:3]) #                                      slice: 0   1   2   3   4  \n",
    "print(mylist[:2]) # all before slice 2 (exclusive index 2)\n",
    "print(mylist[2:]) # all after slice 2 (inclusive index 2)"
   ]
  },
  {
   "cell_type": "markdown",
   "metadata": {},
   "source": [
    "We can change values in the list by indexing/slicing the values and assigning new values"
   ]
  },
  {
   "cell_type": "code",
   "execution_count": 36,
   "metadata": {},
   "outputs": [
    {
     "name": "stdout",
     "output_type": "stream",
     "text": [
      "['Soy Milk', 42, 17.3, True]\n",
      "['Milk', 47, 17.3, True]\n"
     ]
    }
   ],
   "source": [
    "print(mylist)\n",
    "mylist[0:2] = \"Milk\", 47\n",
    "print(mylist)"
   ]
  },
  {
   "cell_type": "markdown",
   "metadata": {},
   "source": [
    "We can add values to the list by \n",
    "\n",
    "(a) slicing values and assigning more new values\n",
    "\n",
    "(b) .append() / .extend()\n",
    "\n",
    "(c) concatenating two lists\n",
    "\n",
    "(d) .insert() / slicing with same start/end"
   ]
  },
  {
   "cell_type": "code",
   "execution_count": 37,
   "metadata": {},
   "outputs": [
    {
     "name": "stdout",
     "output_type": "stream",
     "text": [
      "['Milk', 47, 17.3, True]\n",
      "['Milk', 47, 'Apples', 'Peaches', True]\n",
      "['Milk', 47, 'Apples', 'Peaches', True, 'Beer']\n",
      "['Milk', 47, 'Apples', 'Peaches', True, 'Beer', ['Corn', 2]]\n",
      "['Milk', 47, 'Apples', 'Peaches', True, 'Beer', ['Corn', 2], 'Syrup', 'Tuna', 'Water']\n",
      "['Milk', 47, 'Chocolate', 'Apples', 'Peaches', True, 'Beer', ['Corn', 2], 'Syrup', 'Tuna', 'Water']\n",
      "['Milk', 47, 'Bananas', 'Flour', 'Chocolate', 'Apples', 'Peaches', True, 'Beer', ['Corn', 2], 'Syrup', 'Tuna', 'Water']\n"
     ]
    }
   ],
   "source": [
    "print(mylist)\n",
    "mylist[2:3] = \"Apples\", \"Peaches\" # adds multiple items by replacing item 2\n",
    "print(mylist)\n",
    "mylist.append(\"Beer\") # adds a single item after the last item\n",
    "print(mylist)\n",
    "mylist.append([\"Corn\", 2]) # can also add a single nested item after the last item\n",
    "print(mylist)\n",
    "mylist.extend([\"Syrup\", \"Tuna\", \"Water\"]) # adds multiple items after the last item\n",
    "print(mylist)\n",
    "mylist.insert(2, \"Chocolate\") # adds a single item before item 2\n",
    "print(mylist)\n",
    "mylist[2:2] = \"Bananas\", \"Flour\" # adds multiple items before item 2\n",
    "print(mylist)"
   ]
  },
  {
   "cell_type": "markdown",
   "metadata": {},
   "source": [
    "We can remove values by\n",
    "\n",
    "(a) del\n",
    "\n",
    "(b) .remove()\n",
    "\n",
    "(c) .pop()\n",
    "\n",
    "(d) .clear()"
   ]
  },
  {
   "cell_type": "code",
   "execution_count": 38,
   "metadata": {},
   "outputs": [
    {
     "name": "stdout",
     "output_type": "stream",
     "text": [
      "['Milk', 47, 'Bananas', 'Flour', 'Chocolate', 'Apples', 'Peaches', True, 'Beer', ['Corn', 2], 'Syrup', 'Tuna', 'Water']\n",
      "['Milk', 47, 'Flour', 'Chocolate', 'Apples', 'Peaches', True, 'Beer', ['Corn', 2], 'Syrup', 'Tuna', 'Water']\n",
      "['Milk', 47, 'Flour', 'Chocolate', 'Apples', 'Peaches', 'Beer', ['Corn', 2], 'Syrup', 'Tuna', 'Water']\n",
      "['Milk', 47, 'Flour', 'Chocolate', 'Peaches', 'Beer', ['Corn', 2], 'Syrup', 'Tuna', 'Water']\n",
      "[]\n"
     ]
    }
   ],
   "source": [
    "print(mylist)\n",
    "del mylist[2] # deletes item(s) at index / in slice\n",
    "print(mylist)\n",
    "mylist.remove(True)\n",
    "print(mylist)\n",
    "mylist.pop(4) # removes and returns item at given index (no index = pops item at last index)\n",
    "print(mylist)\n",
    "mylist.clear() # empties the whole list\n",
    "print(mylist)\n",
    "del mylist # deletes the whole list"
   ]
  },
  {
   "cell_type": "markdown",
   "metadata": {},
   "source": [
    "Other important methods"
   ]
  },
  {
   "cell_type": "code",
   "execution_count": 39,
   "metadata": {},
   "outputs": [
    {
     "name": "stdout",
     "output_type": "stream",
     "text": [
      "True\n",
      "4\n",
      "0 Soy Milk; 1 42; 2 17.3; 3 True; \n",
      "0 Soy Milk; 1 42; 2 17.3; 3 True; \n",
      "1\n",
      "1\n",
      "[0, 1, 2, 374, 493, 529, 738]\n",
      "[738, 529, 493, 374, 2, 1, 0]\n"
     ]
    }
   ],
   "source": [
    "mylist = [\"Soy Milk\", 42, 17.3, True]\n",
    "print(\"Soy Milk\" in mylist) # Checks if a value is existent\n",
    "print(len(mylist)) # counts hoy many items are in a variable (only the first level when we have nested variables)\n",
    "\n",
    "for number in range(len(mylist)):\n",
    "    print(number, mylist[number], end=\"; \")\n",
    "\n",
    "print() # only for looks\n",
    "\n",
    "for number, element in enumerate(mylist):\n",
    "    print(number, element, end=\"; \")\n",
    "\n",
    "print() # only for looks\n",
    "\n",
    "print(mylist.index(42)) # Returns the index of the first matched item\n",
    "print(mylist.count(17.3)) # Returns the count of number of items passed as an argument\n",
    "\n",
    "newlist = mylist.copy() # Makes a copy -> changes leave the original list unchanged\n",
    "\n",
    "nrlist = [1, 738, 529, 2, 0, 374, 493]\n",
    "nrlist.sort() # Sorts the list in ascending order\n",
    "print(nrlist)\n",
    "nrlist.reverse() # Reverses the list\n",
    "print(nrlist)"
   ]
  },
  {
   "cell_type": "markdown",
   "metadata": {},
   "source": [
    "## 1.6b Tuples (immutable)\n",
    "Tuples are like lists ordered sequences of items but immutable and are declared by enclosing comma separated items with\n",
    "brackets (). They are used to write-protect data and are usually faster than lists as they can not change dynamically."
   ]
  },
  {
   "cell_type": "markdown",
   "metadata": {},
   "source": [
    "We can use the slicing operator to extract items, but because Tuples are immutable we can NOT add/change/remove values.\n",
    "We can reassign tuple references (a=tuple1, a=tuple2), delete tuples (del a) or concatenate 2 tuples to create a new tuple."
   ]
  },
  {
   "cell_type": "code",
   "execution_count": 40,
   "metadata": {},
   "outputs": [
    {
     "name": "stdout",
     "output_type": "stream",
     "text": [
      "(2, 3)\n",
      "(4, 5, 6)\n",
      "(1, 2, 3, 4, 5, 6)\n"
     ]
    }
   ],
   "source": [
    "a = (1, 2, 3)\n",
    "print(a[1:3])\n",
    "a = (4, 5, 6)\n",
    "print(a)\n",
    "\n",
    "del a\n",
    "\n",
    "a = (1, 2, 3)\n",
    "b = (4, 5, 6)\n",
    "c = a + b\n",
    "print(c)"
   ]
  },
  {
   "cell_type": "markdown",
   "metadata": {},
   "source": [
    "## 1.6c Sets (mutable)\n",
    "Sets are like lists but contain unique values and are declared by enclosing comma separated items with curly braces {}.\n",
    "**Since sets are unordered collections, the index and slicing operator have no meaning and don't work.**"
   ]
  },
  {
   "cell_type": "code",
   "execution_count": 41,
   "metadata": {},
   "outputs": [
    {
     "name": "stdout",
     "output_type": "stream",
     "text": [
      "{'Charline', 'Anna', 'Lisa'}\n"
     ]
    }
   ],
   "source": [
    "soccer_team = {\"Lisa\", \"Anna\",\"Charline\"}\n",
    "print(soccer_team)"
   ]
  },
  {
   "cell_type": "markdown",
   "metadata": {},
   "source": [
    "Adding a value to the set that is already in it, will not cause a duplicate to show up.\n",
    "\n",
    "We can add multiple values to a set with `.update()`."
   ]
  },
  {
   "cell_type": "code",
   "execution_count": 42,
   "metadata": {},
   "outputs": [
    {
     "name": "stdout",
     "output_type": "stream",
     "text": [
      "{'Charline', 'Anna', 'Emma', 'Lisa'}\n"
     ]
    }
   ],
   "source": [
    "soccer_team.add(\"Emma\")\n",
    "soccer_team.add(\"Anna\")\n",
    "print(soccer_team)"
   ]
  },
  {
   "cell_type": "markdown",
   "metadata": {},
   "source": [
    "We can remove values as with lists"
   ]
  },
  {
   "cell_type": "code",
   "execution_count": 43,
   "metadata": {},
   "outputs": [
    {
     "name": "stdout",
     "output_type": "stream",
     "text": [
      "{'Charline', 'Emma', 'Lisa'}\n"
     ]
    }
   ],
   "source": [
    "soccer_team.remove(\"Anna\")\n",
    "print(soccer_team)"
   ]
  },
  {
   "cell_type": "markdown",
   "metadata": {},
   "source": [
    "We can use sets to compare two groups of values"
   ]
  },
  {
   "cell_type": "code",
   "execution_count": 44,
   "metadata": {},
   "outputs": [
    {
     "name": "stdout",
     "output_type": "stream",
     "text": [
      "{'Julia', 'Emily', 'Alessandra'}\n",
      "{'Emma', 'Lisa'}\n",
      "{'Charline'}\n",
      "{'Alessandra', 'Julia', 'Emma', 'Lisa', 'Emily'}\n",
      "{'Alessandra', 'Charline', 'Emily', 'Julia', 'Emma', 'Lisa'}\n"
     ]
    }
   ],
   "source": [
    "basketball_team = {\"Emily\",\"Charline\",\"Alessandra\",\"Julia\"}\n",
    "\n",
    "basketball_but_not_soccer = basketball_team.difference(soccer_team)\n",
    "print(basketball_but_not_soccer)\n",
    "\n",
    "soccer_but_not_basketball = soccer_team.difference(basketball_team)\n",
    "print(soccer_but_not_basketball)\n",
    "\n",
    "in_both = soccer_team.intersection(basketball_team)\n",
    "print(in_both)\n",
    "\n",
    "not_in_both = soccer_team.symmetric_difference(basketball_team)\n",
    "print(not_in_both)\n",
    "\n",
    "all_players = soccer_team.union(basketball_team)\n",
    "print(all_players)"
   ]
  },
  {
   "cell_type": "markdown",
   "metadata": {},
   "source": [
    "## 1.6d Dictionaries (mutable)\n",
    "Dictionaries are a mutable data format, that has comma seperated key-value pairs and are also defined with curly brackets\n",
    "{}. Keys and values can both be any type of variable type (int, float, string, bool), but keys have to be unique.\n",
    "\n",
    "Dictionaries can also be nested to bundle a lot of information in a structured manner."
   ]
  },
  {
   "cell_type": "code",
   "execution_count": 45,
   "metadata": {},
   "outputs": [
    {
     "name": "stdout",
     "output_type": "stream",
     "text": [
      "{'China': 157, 'Japan': 61, 'Indonesia': 113, 'Iran': 106, 'Turkey': 77}\n"
     ]
    }
   ],
   "source": [
    "earthquakes_by_country = {\"China\": 157, \n",
    "                          \"Japan\":61,\n",
    "                          \"Indonesia\": 113,\n",
    "                          \"Iran\":106,\n",
    "                          \"Turkey\":77} \n",
    "print(earthquakes_by_country)"
   ]
  },
  {
   "cell_type": "code",
   "execution_count": 46,
   "metadata": {},
   "outputs": [
    {
     "name": "stdout",
     "output_type": "stream",
     "text": [
      "{'China': {'Earthquakes': 157, 'State Leader': 'Xi Jinping', 'Population': 1393000000}, 'Indonesia': {'Earthquakes': 113, 'State Leader': 'Joko Widodo', 'Population': 267700000}, 'Japan': {'Earthquakes': 61, 'State Leader': 'Shinzo Abe', 'Population': 126500000}, 'Iran': {'Earthquakes': 106, 'State Leader': 'Hassan Rouhani', 'Population': 81800000}}\n"
     ]
    }
   ],
   "source": [
    "country_stats = {\n",
    "    \"China\": {\"Earthquakes\": 157, \"State Leader\": \"Xi Jinping\", \"Population\": 1393000000},\n",
    "    \"Indonesia\": {\"Earthquakes\": 113, \"State Leader\": \"Joko Widodo\", \"Population\": 267700000},\n",
    "    \"Japan\": {\"Earthquakes\": 61, \"State Leader\": \"Shinzo Abe\", \"Population\": 126500000},\n",
    "    \"Iran\": {\"Earthquakes\": 106, \"State Leader\": \"Hassan Rouhani\", \"Population\": 81800000}\n",
    "}\n",
    "print(country_stats)"
   ]
  },
  {
   "cell_type": "markdown",
   "metadata": {},
   "source": [
    "We can access values by indexing with the key. We need to be sure, that the value is in there, otherwise there will be a \n",
    "KeyError (if we are not sure, we can use `.get()` - if the value is not found \"None\" is returned)."
   ]
  },
  {
   "cell_type": "code",
   "execution_count": 47,
   "metadata": {},
   "outputs": [
    {
     "name": "stdout",
     "output_type": "stream",
     "text": [
      "157\n",
      "157\n",
      "None\n"
     ]
    }
   ],
   "source": [
    "print(earthquakes_by_country[\"China\"])\n",
    "print(earthquakes_by_country.get(\"China\"))\n",
    "print(earthquakes_by_country.get(\"Switzerland\"))"
   ]
  },
  {
   "cell_type": "markdown",
   "metadata": {},
   "source": [
    "We can also iterate through the dictionary's keys, values or items (which are tuples containing a key and a value)."
   ]
  },
  {
   "cell_type": "code",
   "execution_count": 48,
   "metadata": {},
   "outputs": [
    {
     "name": "stdout",
     "output_type": "stream",
     "text": [
      "dict_keys(['China', 'Japan', 'Indonesia', 'Iran', 'Turkey'])\n",
      "dict_values([157, 61, 113, 106, 77])\n",
      "dict_items([('China', 157), ('Japan', 61), ('Indonesia', 113), ('Iran', 106), ('Turkey', 77)])\n",
      "('China', 157)\n",
      "('Japan', 61)\n",
      "('Indonesia', 113)\n",
      "('Iran', 106)\n",
      "('Turkey', 77)\n"
     ]
    }
   ],
   "source": [
    "print(earthquakes_by_country.keys())\n",
    "print(earthquakes_by_country.values())\n",
    "print(earthquakes_by_country.items())\n",
    "\n",
    "for item in earthquakes_by_country.items():\n",
    "    print(item)"
   ]
  },
  {
   "cell_type": "markdown",
   "metadata": {},
   "source": [
    "We can remove values from a dictionary using `.pop(key)` or change/add items by indexing with the key of\n",
    "the key-value pair we want to modify or add."
   ]
  },
  {
   "cell_type": "code",
   "execution_count": 49,
   "metadata": {},
   "outputs": [
    {
     "name": "stdout",
     "output_type": "stream",
     "text": [
      "{'China': {'Earthquakes': 157, 'State Leader': 'Xi Jinping', 'Population': 1393000000}, 'Japan': {'Earthquakes': 61, 'State Leader': 'Shinzo Abe', 'Population': 126500000}, 'Iran': {'Earthquakes': 106, 'State Leader': 'Hassan Rouhani', 'Population': 81800000}, 'Turkey': {'Earthquakes': 77, 'State Leader': 'Recep Tayyip Erdoğan', 'Population': 82000000}}\n"
     ]
    }
   ],
   "source": [
    "country_stats.pop(\"Indonesia\")\n",
    "country_stats[\"Turkey\"] = {\"Earthquakes\": 77, \"State Leader\": \"Recep Tayyip Erdoğan\", \"Population\": 82000000}\n",
    "print(country_stats)"
   ]
  },
  {
   "cell_type": "markdown",
   "metadata": {},
   "source": [
    "## 1.7 Type Conversion & Type Casting"
   ]
  },
  {
   "cell_type": "markdown",
   "metadata": {},
   "source": [
    "We have learned that Python has different types. We can check the type of a variable or if an object has a certain type."
   ]
  },
  {
   "cell_type": "code",
   "execution_count": 50,
   "metadata": {},
   "outputs": [
    {
     "name": "stdout",
     "output_type": "stream",
     "text": [
      "<class 'str'>\n",
      "True\n"
     ]
    }
   ],
   "source": [
    "a = \"2.4\"\n",
    "print(type(a))\n",
    "\n",
    "b = \"2\"\n",
    "print(isinstance(b, str))"
   ]
  },
  {
   "cell_type": "markdown",
   "metadata": {},
   "source": [
    "Implicit Type Conversion means that Python automatically converts certain data types into another one. E.g. adding an \n",
    "integer & float will result in float while adding a string & integer will result in a typeerror."
   ]
  },
  {
   "cell_type": "markdown",
   "metadata": {},
   "source": [
    "The solution to this is called explicit type conversion or type casting. Because we force data into another type,\n",
    "data might be lost. We can convert:\n",
    "\n",
    "    int()\n",
    "    \n",
    "    float()\n",
    "    \n",
    "    str()\n",
    "    \n",
    "    bool() # 0 (or empty \"\") is transformed into False, any other number (or string \"a\") will be transformed into True\n",
    "           # and also sequences\n",
    "           \n",
    "but need to remember different restrictions (e.g. float to int will truncate the value; conversion from and to strings\n",
    "must contain compatible values; conversion to dictionary needs each element to be a pair; ...)."
   ]
  },
  {
   "cell_type": "markdown",
   "metadata": {},
   "source": [
    "Type conversion is often necessary to convert user input (which is always a string) into a number."
   ]
  },
  {
   "cell_type": "code",
   "execution_count": 51,
   "metadata": {},
   "outputs": [
    {
     "name": "stdout",
     "output_type": "stream",
     "text": [
      "<class 'float'>\n"
     ]
    },
    {
     "data": {
      "text/plain": [
       "15.0"
      ]
     },
     "execution_count": 51,
     "metadata": {},
     "output_type": "execute_result"
    }
   ],
   "source": [
    "a = 5/2\n",
    "b = 5//2\n",
    "c = 5%2\n",
    "\n",
    "d = 5 + 2.5\n",
    "e = 2.0*7.5\n",
    "\n",
    "print(type(e))\n",
    "e"
   ]
  },
  {
   "cell_type": "markdown",
   "metadata": {},
   "source": [
    "## 1.8 Namespaces\n",
    "Python uses a concept called Namespaces. For you important to understand is, that there are different levels of namespaces\n",
    "which means that if we define variable names on a local level (e.g. inside a function) these variables can not be called \n",
    "from outside this function (from the global level). But we can call variables defined on the global level from the local \n",
    "level."
   ]
  },
  {
   "cell_type": "markdown",
   "metadata": {},
   "source": [
    "# 2 Advanced Python"
   ]
  },
  {
   "cell_type": "markdown",
   "metadata": {},
   "source": [
    "We already know the most common data types, how we can apply operations on them and how we can create small logical flows\n",
    "with user input. We'll now look at some features of Python that will allow us to build more complicated work flows."
   ]
  },
  {
   "cell_type": "markdown",
   "metadata": {},
   "source": [
    "## 2.1 If Statements\n",
    "If statements check for a condition and then depending on whether it is true executes a block of code.\n",
    "If the condition is not true then you can specify an `else` clause to execute an alternative block of code.\n",
    "If we omit the else clause, nothing happens if the condition is not fulfilled."
   ]
  },
  {
   "cell_type": "code",
   "execution_count": 52,
   "metadata": {},
   "outputs": [
    {
     "name": "stdout",
     "output_type": "stream",
     "text": [
      "Welcome to the theater, how old are you?19\n",
      "You qualify for the regular entry fee\n"
     ]
    }
   ],
   "source": [
    "user_age = int(input(\"Welcome to the theater, how old are you?\"))\n",
    "price = 50\n",
    "\n",
    "if user_age >= 18:\n",
    "    print(\"You qualify for the regular entry fee\")    \n",
    "else:\n",
    "    price -= 20\n",
    "    print(\"You qualify for the childrens discount and may pay 20 CHF less\")"
   ]
  },
  {
   "cell_type": "markdown",
   "metadata": {},
   "source": [
    "With the `elif` clause we can specify any number of additional conditions to check for."
   ]
  },
  {
   "cell_type": "code",
   "execution_count": 53,
   "metadata": {},
   "outputs": [
    {
     "name": "stdout",
     "output_type": "stream",
     "text": [
      "Welcome to our clothing store, please enter your height in cm to receive a size recommendation175\n",
      "We recommend size M for you. Enjoy your visit\n"
     ]
    }
   ],
   "source": [
    "user_height = int(input(\"Welcome to our clothing store, please enter your height in cm to receive a size recommendation\"))\n",
    "\n",
    "if user_height > 190:\n",
    "    size = \"XL\"\n",
    "elif user_height > 180:\n",
    "    size = \"L\"  \n",
    "elif user_height > 170:\n",
    "    size = \"M\"\n",
    "elif user_height > 160:\n",
    "    size = \"S\"\n",
    "else:\n",
    "    size = \"XS\" \n",
    "\n",
    "print(f\"We recommend size {size} for you. Enjoy your visit\")"
   ]
  },
  {
   "cell_type": "markdown",
   "metadata": {},
   "source": [
    "## 2.2 While Loops (can also have an else block)\n",
    "While loops allow us to run a codeblock repeatedly as long as the condition is fulfilled."
   ]
  },
  {
   "cell_type": "code",
   "execution_count": 54,
   "metadata": {},
   "outputs": [
    {
     "name": "stdout",
     "output_type": "stream",
     "text": [
      "10\n",
      "40\n",
      "70\n"
     ]
    }
   ],
   "source": [
    "i = 10\n",
    "while i<100:\n",
    "    print(i)\n",
    "    i = i + 30"
   ]
  },
  {
   "cell_type": "markdown",
   "metadata": {},
   "source": [
    "But be careful: if you make a mistake in the condition the code might never exit the while loop and you need to restart\n",
    "the program.\n",
    "\n",
    "A common mistake is forgetting `i+=1` in the above codeblock."
   ]
  },
  {
   "cell_type": "markdown",
   "metadata": {},
   "source": [
    "## 2.3 For Loops (can also have an else block)\n",
    "For loops iterate over an iterable object (e.g. list / string) and allow us to use each of the elements.\n",
    "We can give the iterated variable any name as long as we respect the naming rules."
   ]
  },
  {
   "cell_type": "code",
   "execution_count": 55,
   "metadata": {},
   "outputs": [
    {
     "name": "stdout",
     "output_type": "stream",
     "text": [
      "Welcome to Dr. Philipps office Anna, please have a seat.\n",
      "Welcome to Dr. Philipps office Philippe, please have a seat.\n",
      "Welcome to Dr. Philipps office Cathrine, please have a seat.\n",
      "Welcome to Dr. Philipps office Isabelle, please have a seat.\n",
      "Welcome to Dr. Philipps office Giacomo, please have a seat.\n",
      "Welcome to Dr. Philipps office 0, please have a seat.\n"
     ]
    }
   ],
   "source": [
    "patients = [\"Anna\", \"Philippe\", \"Cathrine\", \"Isabelle\", \"Giacomo\", 0]\n",
    "for name in patients:\n",
    "    print(f\"Welcome to Dr. Philipps office {name}, please have a seat.\")"
   ]
  },
  {
   "cell_type": "code",
   "execution_count": 56,
   "metadata": {},
   "outputs": [
    {
     "name": "stdout",
     "output_type": "stream",
     "text": [
      "H\n",
      "e\n",
      "l\n",
      "l\n",
      "o\n",
      " \n",
      "w\n",
      "o\n",
      "r\n",
      "l\n",
      "d\n"
     ]
    }
   ],
   "source": [
    "for char in \"Hello world\":\n",
    "    print(char)"
   ]
  },
  {
   "cell_type": "markdown",
   "metadata": {},
   "source": [
    "Instead of using a while loop with an incrementing counting integer (`i+=1`) you can also use a for loop with\n",
    "`range(start -> default:0, end, [steps])`. Notice that the last digit is not considered (similar to slicing a string where \n",
    "the stopping index is not included)."
   ]
  },
  {
   "cell_type": "code",
   "execution_count": 57,
   "metadata": {},
   "outputs": [
    {
     "name": "stdout",
     "output_type": "stream",
     "text": [
      "20\n",
      "0\n",
      "1\n",
      "2\n",
      "3\n",
      "4\n",
      "5\n",
      "6\n",
      "7\n",
      "8\n",
      "9\n",
      "9\n",
      "2\n",
      "19\n",
      "36\n",
      "53\n",
      "70\n",
      "87\n",
      "104\n",
      "121\n"
     ]
    }
   ],
   "source": [
    "i = 20\n",
    "print(i)\n",
    "\n",
    "for i in range(10):\n",
    "    print(i)\n",
    "\n",
    "print(i)\n",
    "\n",
    "\n",
    "for i in range(2,123,17):\n",
    "    print(i)"
   ]
  },
  {
   "cell_type": "markdown",
   "metadata": {},
   "source": [
    "A logic error known as an **off-by-one error** occurs when you assume that range’s argument value\n",
    "is included in the generated sequence."
   ]
  },
  {
   "cell_type": "markdown",
   "metadata": {},
   "source": [
    "## 2.4 Break, Continue & Pass"
   ]
  },
  {
   "cell_type": "markdown",
   "metadata": {},
   "source": [
    "We use `break` to exit a loop (e.g. when a special condition is fulfilled)"
   ]
  },
  {
   "cell_type": "code",
   "execution_count": 58,
   "metadata": {},
   "outputs": [
    {
     "name": "stdout",
     "output_type": "stream",
     "text": [
      "Abort! There is an error in the item list\n",
      "Apple\n",
      "Total cost: 20.284 CHF\n"
     ]
    }
   ],
   "source": [
    "# Lets say our store offers a discount on any item that costs more than 5 CHF and \n",
    "#  we want to calculate the final price at the checkout. If there is any issue with\n",
    "#  the prices in the list, then we want the system to stop immediately\n",
    "\n",
    "item_prices_of_shopping_basket = [2.50, 6.50, 2.50, 0.50, 11.98, \"Apple\", 2.50, 7.48]\n",
    "total = 0\n",
    "\n",
    "for item_price in item_prices_of_shopping_basket:\n",
    "    if type(item_price) is not type(2.0):\n",
    "        print(\"Abort! There is an error in the item list\")\n",
    "        print(item_price)\n",
    "        break\n",
    "    if item_price > 5:\n",
    "        item_price = item_price * 0.8\n",
    "    total += item_price\n",
    "\n",
    "print(f\"Total cost: {total} CHF\")"
   ]
  },
  {
   "cell_type": "markdown",
   "metadata": {},
   "source": [
    "or `continue` which skips the remainder of the loop and continues with the next iteration."
   ]
  },
  {
   "cell_type": "code",
   "execution_count": 59,
   "metadata": {},
   "outputs": [
    {
     "name": "stdout",
     "output_type": "stream",
     "text": [
      "There is an issue with the item. Item is being skipped.\n",
      "Total cost: 28.768 CHF\n"
     ]
    }
   ],
   "source": [
    "# Same scenario as above, but we decide that we just want to skip the item in question\n",
    "\n",
    "item_prices_of_shopping_basket = [2.50, 6.50, 2.50, 0.50, 11.98, \"Apple\", 2.50, 7.48]\n",
    "total = 0\n",
    "\n",
    "for item_price in item_prices_of_shopping_basket:\n",
    "    if type(item_price) != type(1.0):\n",
    "        print(\"There is an issue with the item. Item is being skipped.\")\n",
    "        continue\n",
    "    if item_price > 5:\n",
    "        item_price = item_price * 0.8\n",
    "    total += item_price\n",
    "\n",
    "print(f\"Total cost: {total} CHF\")"
   ]
  },
  {
   "cell_type": "markdown",
   "metadata": {},
   "source": [
    "`pass` is used as a placeholder and is read by the interpreter but nothing happens."
   ]
  },
  {
   "cell_type": "code",
   "execution_count": 60,
   "metadata": {},
   "outputs": [
    {
     "name": "stdout",
     "output_type": "stream",
     "text": [
      "None\n"
     ]
    }
   ],
   "source": [
    "def new_function():\n",
    "    pass    \n",
    "    \n",
    "print(new_function())"
   ]
  },
  {
   "cell_type": "markdown",
   "metadata": {},
   "source": [
    "## 2.5 Functions\n",
    "### 2.5.1 Basics\n",
    "We've already used (already coded) functions like `print()` or `len()`. Now we want to define our own functions.\n",
    "\n",
    "We have to make sure, that the code we want to run is indented (4 empty spaces or a tab).\n",
    "We therefore can define a basic function like this:"
   ]
  },
  {
   "cell_type": "markdown",
   "metadata": {},
   "source": [
    "def function_name():\n",
    "    # code we want to run"
   ]
  },
  {
   "cell_type": "code",
   "execution_count": 61,
   "metadata": {},
   "outputs": [],
   "source": [
    "def hello():\n",
    "    user_name = input(\"Hello what is your name?\")\n",
    "    print(f\"Hello {user_name}!\")"
   ]
  },
  {
   "cell_type": "markdown",
   "metadata": {},
   "source": [
    "But just defining the function does not execute it. To call (or invoke) the function we use its name and add () to its end."
   ]
  },
  {
   "cell_type": "code",
   "execution_count": 62,
   "metadata": {},
   "outputs": [
    {
     "data": {
      "text/plain": [
       "<function __main__.hello()>"
      ]
     },
     "execution_count": 62,
     "metadata": {},
     "output_type": "execute_result"
    }
   ],
   "source": [
    "hello"
   ]
  },
  {
   "cell_type": "code",
   "execution_count": 63,
   "metadata": {},
   "outputs": [
    {
     "name": "stdout",
     "output_type": "stream",
     "text": [
      "Hello what is your name?Dominik\n",
      "Hello Dominik!\n"
     ]
    }
   ],
   "source": [
    "hello()"
   ]
  },
  {
   "cell_type": "markdown",
   "metadata": {},
   "source": [
    "Remember that variables inside the function (local namespace) are not accessible outside of it."
   ]
  },
  {
   "cell_type": "code",
   "execution_count": 64,
   "metadata": {},
   "outputs": [
    {
     "name": "stdout",
     "output_type": "stream",
     "text": [
      "Your result is 100\n",
      "20\n"
     ]
    }
   ],
   "source": [
    "my_result = 20\n",
    "\n",
    "def multiply_ten_by_itself():\n",
    "    my_result = 10\n",
    "    my_result *= 10    \n",
    "    print(f\"Your result is {my_result}\")\n",
    "    \n",
    "multiply_ten_by_itself()\n",
    "print(my_result) # the variable wont be found"
   ]
  },
  {
   "cell_type": "markdown",
   "metadata": {},
   "source": [
    "### 2.5.2 Arguments and parameters\n",
    "Arguments are values we pass to a function (as a parameter for this function) and can be used inside this function"
   ]
  },
  {
   "cell_type": "code",
   "execution_count": 65,
   "metadata": {},
   "outputs": [
    {
     "name": "stdout",
     "output_type": "stream",
     "text": [
      "12\n",
      "None\n"
     ]
    }
   ],
   "source": [
    "def add(number1, number2): # the arguments which are passed to this function have the variable names number1 & number2\n",
    "    print(number1 + number2)\n",
    "    return None\n",
    "    \n",
    "x = add(5, 7)\n",
    "print(x)"
   ]
  },
  {
   "cell_type": "markdown",
   "metadata": {},
   "source": [
    "### 2.5.3 Return values\n",
    "Consider the last function we built. Its quite useful, but maybe we want to use the input for a further step \n",
    "instead of just having the function print something.\n",
    "\n",
    "We use return values for this, which are values which the function gives us back as a variable."
   ]
  },
  {
   "cell_type": "code",
   "execution_count": 66,
   "metadata": {},
   "outputs": [
    {
     "name": "stdout",
     "output_type": "stream",
     "text": [
      "16.0\n",
      "1\n"
     ]
    }
   ],
   "source": [
    "def add(number1, number2): \n",
    "    c = number1 + number2\n",
    "    return c\n",
    "\n",
    "x = 10\n",
    "y = (add(5, 7) / 2)\n",
    "print(x + y)\n",
    "print(c)"
   ]
  },
  {
   "cell_type": "markdown",
   "metadata": {},
   "source": [
    "The return keyword terminates a function, code after it will not be executed anymore."
   ]
  },
  {
   "cell_type": "code",
   "execution_count": 67,
   "metadata": {},
   "outputs": [
    {
     "name": "stdout",
     "output_type": "stream",
     "text": [
      "2.5\n"
     ]
    }
   ],
   "source": [
    "def add(number1, number2): \n",
    "    c = number1 + number2\n",
    "    return 5\n",
    "    print(\"This will not be printed!\")\n",
    "\n",
    "print(add(5, 7) / 2)"
   ]
  },
  {
   "cell_type": "markdown",
   "metadata": {},
   "source": [
    "### 2.5.4 Parameters\n",
    "Sometimes we don't remember the right order in which we have to specify our arguments. \n",
    "We can therefore name the arguments explicitly."
   ]
  },
  {
   "cell_type": "code",
   "execution_count": 68,
   "metadata": {},
   "outputs": [
    {
     "name": "stdout",
     "output_type": "stream",
     "text": [
      "5\n",
      "-5\n",
      "5\n"
     ]
    }
   ],
   "source": [
    "def subtract(x, y):\n",
    "    print(x-y)\n",
    "    \n",
    "subtract(10,5)\n",
    "subtract(5,10)\n",
    "subtract(y=5,x=10)"
   ]
  },
  {
   "cell_type": "markdown",
   "metadata": {},
   "source": [
    "Sometimes we don't want to enter a parameter everytime it stays the same, but have the possibility to change \n",
    "it if necessary."
   ]
  },
  {
   "cell_type": "code",
   "execution_count": 69,
   "metadata": {},
   "outputs": [
    {
     "name": "stdout",
     "output_type": "stream",
     "text": [
      "Hello Dominik\n",
      "Gruezi Dominik\n"
     ]
    }
   ],
   "source": [
    "def say_hello(name, greeting_prefix=\"Hello\"):\n",
    "    greetings = greeting_prefix + \" \" + name\n",
    "    print(greetings)\n",
    "    \n",
    "say_hello(\"Dominik\")\n",
    "say_hello(\"Dominik\", greeting_prefix=\"Gruezi\")"
   ]
  },
  {
   "cell_type": "markdown",
   "metadata": {},
   "source": [
    "## 2.6 Libraries / Modules"
   ]
  },
  {
   "cell_type": "markdown",
   "metadata": {},
   "source": [
    "We can import modules from libraries that allow us to use certain functions programmed by other people."
   ]
  },
  {
   "cell_type": "code",
   "execution_count": 70,
   "metadata": {},
   "outputs": [
    {
     "ename": "NameError",
     "evalue": "name 'localtime' is not defined",
     "output_type": "error",
     "traceback": [
      "\u001b[1;31m---------------------------------------------------------------------------\u001b[0m",
      "\u001b[1;31mNameError\u001b[0m                                 Traceback (most recent call last)",
      "\u001b[1;32m<ipython-input-70-e6afc67b5d4d>\u001b[0m in \u001b[0;36m<module>\u001b[1;34m\u001b[0m\n\u001b[1;32m----> 1\u001b[1;33m \u001b[0mlocaltime\u001b[0m\u001b[1;33m(\u001b[0m\u001b[1;33m)\u001b[0m\u001b[1;33m\u001b[0m\u001b[1;33m\u001b[0m\u001b[0m\n\u001b[0m",
      "\u001b[1;31mNameError\u001b[0m: name 'localtime' is not defined"
     ]
    }
   ],
   "source": [
    "localtime()"
   ]
  },
  {
   "cell_type": "code",
   "execution_count": 71,
   "metadata": {},
   "outputs": [
    {
     "data": {
      "text/plain": [
       "time.struct_time(tm_year=2022, tm_mon=8, tm_mday=15, tm_hour=10, tm_min=2, tm_sec=9, tm_wday=0, tm_yday=227, tm_isdst=1)"
      ]
     },
     "execution_count": 71,
     "metadata": {},
     "output_type": "execute_result"
    }
   ],
   "source": [
    "import time\n",
    "time.localtime()"
   ]
  },
  {
   "cell_type": "code",
   "execution_count": 72,
   "metadata": {},
   "outputs": [
    {
     "data": {
      "text/plain": [
       "time.struct_time(tm_year=2022, tm_mon=8, tm_mday=15, tm_hour=10, tm_min=2, tm_sec=10, tm_wday=0, tm_yday=227, tm_isdst=1)"
      ]
     },
     "execution_count": 72,
     "metadata": {},
     "output_type": "execute_result"
    }
   ],
   "source": [
    "import time as tm\n",
    "tm.localtime()"
   ]
  },
  {
   "cell_type": "code",
   "execution_count": 73,
   "metadata": {},
   "outputs": [
    {
     "data": {
      "text/plain": [
       "time.struct_time(tm_year=2022, tm_mon=8, tm_mday=15, tm_hour=10, tm_min=2, tm_sec=12, tm_wday=0, tm_yday=227, tm_isdst=1)"
      ]
     },
     "execution_count": 73,
     "metadata": {},
     "output_type": "execute_result"
    }
   ],
   "source": [
    "from time import localtime\n",
    "localtime()"
   ]
  },
  {
   "cell_type": "code",
   "execution_count": null,
   "metadata": {},
   "outputs": [],
   "source": []
  }
 ],
 "metadata": {
  "kernelspec": {
   "display_name": "Python 3",
   "language": "python",
   "name": "python3"
  },
  "language_info": {
   "codemirror_mode": {
    "name": "ipython",
    "version": 3
   },
   "file_extension": ".py",
   "mimetype": "text/x-python",
   "name": "python",
   "nbconvert_exporter": "python",
   "pygments_lexer": "ipython3",
   "version": "3.8.5"
  }
 },
 "nbformat": 4,
 "nbformat_minor": 4
}
