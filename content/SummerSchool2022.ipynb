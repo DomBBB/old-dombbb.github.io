{
 "cells": [
  {
   "cell_type": "markdown",
   "metadata": {},
   "source": [
    "# Summer School 2022"
   ]
  },
  {
   "cell_type": "markdown",
   "metadata": {},
   "source": [
    "Content: https://sback.github.io/shsg-summerschool-2022/\n",
    "\n",
    "Exercise Solutions: http://sback.it/shsg-summerschool-2022/"
   ]
  },
  {
   "cell_type": "markdown",
   "metadata": {},
   "source": [
    "# Summer School 2022: Day 1"
   ]
  },
  {
   "cell_type": "markdown",
   "metadata": {},
   "source": [
    "## Introduction to Programming"
   ]
  },
  {
   "cell_type": "markdown",
   "metadata": {},
   "source": [
    "Programming is the act of writing a program, **which is a set of instructions that a computer must execute in\n",
    "certain situations**.\n",
    "\n",
    "**Instructions** can do everything from mathematical operations to image manipulation and are written in a certain programming language. The syntax of programming languages varies, but every language has basic instructions for **Input** (what you get from the user/another program), **storage** (store information), **output** (behaviour/show to the user/pass back to another program), **mathematics**, **conditionals** (do things only in certain situations) & **repetition** (repeat things). **In programming we break apart a large task into smaller tasks until the subtasks are so small/simple that they can be executed with these instructions.**\n",
    "\n",
    "**Programming is important** because **Computers** are everywhere (laptop, desktop, smartphone, terminals in restaurants, ...). Additionally software is eating the world: most businesses are run on software (not only movie oder video industries but also other industries). Because we rely so heavily on software, software failures (bugs) can have severe consequences going into billions of dollars in economical but also other losses and therefore it is very important to program properly. The same reliability also means that there is a strong demand for programmers and people who understand programmers and there already is a shortage of professionals."
   ]
  },
  {
   "cell_type": "markdown",
   "metadata": {},
   "source": [
    "For this course there are two options presented to learn programming. One is downloading an already set up virtual machine based on linux, the other is installing python directly on the computer. Being able to read this means we successfully finished the second option and are now ready to code."
   ]
  },
  {
   "cell_type": "markdown",
   "metadata": {},
   "source": [
    "## Hello World (different ways to write Python programs) & Print()"
   ]
  },
  {
   "cell_type": "markdown",
   "metadata": {},
   "source": [
    "We can't write our instructions in plain german or english, because the recipient of these instructions (the computer) is not able to understand this language directly. We can use many different (programming) languages to write such instructions.\n",
    "\n",
    "An easy/simple and flexible programming language that is often used is **Python**. We can write a set of instructions in the Python language, which can be read by the Python interpreter and translated on the fly into machine language for the computer, which then executes this code.\n",
    "\n",
    "We have five different ways to write our first program and will dive deeper into all the functionality later in the course."
   ]
  },
  {
   "cell_type": "markdown",
   "metadata": {},
   "source": [
    "### Use Python directly within the terminal"
   ]
  },
  {
   "cell_type": "markdown",
   "metadata": {},
   "source": [
    "We can open our terminal (alternative to the graphical user interface, which was mostly used earlier or today in linux) and then start Python with: `python` or `python3`.\n",
    "\n",
    "We can then write commands in the python language, which will be translated into machine language by the Python interpreter. E.g. we can use the `print()` **function** together with the **string** `\"Hello World!` or do **mathematical operations**:\n",
    "\n",
    "`>>> print(\"Hello World!\")`\n",
    "\n",
    "`Hello World!`\n",
    "\n",
    "`>>> 2 + 3`\n",
    "\n",
    "`5`\n",
    "\n",
    "This is a very quick way to write programs but has one main disadvantage: As soon as we close the Python environment (with `exit()`) we can't use Python functions anymore and **all code we have been writing has been deleted**."
   ]
  },
  {
   "cell_type": "markdown",
   "metadata": {},
   "source": [
    "### Write all Instructions in a simple textual file & tell the Python interpreter to execute/read line by line this file"
   ]
  },
  {
   "cell_type": "markdown",
   "metadata": {},
   "source": [
    "We can use any text editor to write such programs line by line and store them as **.py** file. We can then execute / read this file in the terminal:\n",
    "\n",
    "`python hello_world.py` or `python3 hello_world.py`\n",
    "\n",
    "`Hello World!`\n",
    "`5`"
   ]
  },
  {
   "cell_type": "markdown",
   "metadata": {},
   "source": [
    "### Use an IDE (\"glorified text editor with alot of functions\")"
   ]
  },
  {
   "cell_type": "markdown",
   "metadata": {},
   "source": [
    "This is basically the same as above and we can open / create **.py** files within the IDE. Additionally we can usually directly run code within the IDE's integrated terminal."
   ]
  },
  {
   "cell_type": "markdown",
   "metadata": {},
   "source": [
    "### Jupyter Notebooks (\"this here\")"
   ]
  },
  {
   "cell_type": "markdown",
   "metadata": {},
   "source": [
    "A special program that is opened in the browser. We can have code cells and text cells within the same file & it is very interactive.\n",
    "\n",
    "Each cell can be run independently by the python interpreter which makes it easy to figure out bugs and mistakes.\n",
    "\n",
    "We can also **save these notebooks** which allows us to close our programmed code and open or share it later on."
   ]
  },
  {
   "cell_type": "code",
   "execution_count": 1,
   "metadata": {},
   "outputs": [
    {
     "name": "stdout",
     "output_type": "stream",
     "text": [
      "Hello World!\n"
     ]
    }
   ],
   "source": [
    "print(\"Hello World!\")"
   ]
  },
  {
   "cell_type": "code",
   "execution_count": 2,
   "metadata": {},
   "outputs": [
    {
     "data": {
      "text/plain": [
       "5"
      ]
     },
     "execution_count": 2,
     "metadata": {},
     "output_type": "execute_result"
    }
   ],
   "source": [
    "2 + 3"
   ]
  },
  {
   "cell_type": "markdown",
   "metadata": {},
   "source": [
    "### Pythontutor (http://pythontutor.com/visualize.html#mode=edit)"
   ]
  },
  {
   "cell_type": "markdown",
   "metadata": {},
   "source": [
    "This website allows us to visualize the execution of code that we have written."
   ]
  },
  {
   "cell_type": "markdown",
   "metadata": {},
   "source": [
    "## Variables & Input()"
   ]
  },
  {
   "cell_type": "markdown",
   "metadata": {},
   "source": [
    "When we want **input** from the user we need to ask the user for this input and then store it somewhere to be able to use it in our program.\n",
    "\n",
    "In order to do this we need to **define** a **variable** and **assign a value** to this variable. A variable is the name that we give to a particular location in memory (to a \"box\") in order to store a value in this location. After preparing the piece of memory, giving it a tag/label and storing a value there, we can use this value whenever we want by accessing it through the variable (tag/label).\n",
    "\n",
    "We should try to use simple and understandable variable names. Variable names are **case-sensitive** and have to follow these guidelines:\n",
    "- Only contain alpha-numeric characters (a-z, A-Z, 0-9) and underscores (_)\n",
    "- Start with a letter or underrscore (not start with a number)\n",
    "- Not being a keyword\n",
    "By using the same variable name again (in the same scope) we can overwrite the previously stored value.\n",
    "\n",
    "We make such an assignment statement e.g. for the variable a by writing `a = 5`. We can also reference one variable from another, e.g. `b = a`. In this case we don't want to assign a number to our newly created variable but rather the input we got from the user through the `input()` function (we can also write a string in the brackets to pose a question with the function). **Important: Input always returns a string value**."
   ]
  },
  {
   "cell_type": "code",
   "execution_count": 1,
   "metadata": {},
   "outputs": [
    {
     "name": "stdout",
     "output_type": "stream",
     "text": [
      "Please enter your name: DominiK\n",
      "Hello DominiK, nice to meet you!\n"
     ]
    }
   ],
   "source": [
    "name = input(\"Please enter your name: \")\n",
    "print(\"Hello \" + name + \", nice to meet you!\")"
   ]
  },
  {
   "cell_type": "code",
   "execution_count": 4,
   "metadata": {},
   "outputs": [
    {
     "name": "stdout",
     "output_type": "stream",
     "text": [
      "4\n",
      "7\n"
     ]
    }
   ],
   "source": [
    "print(1 + 3)\n",
    "\n",
    "x = 4\n",
    "y = 3\n",
    "print(x + y)"
   ]
  },
  {
   "cell_type": "markdown",
   "metadata": {},
   "source": [
    "## Data Types & Operations"
   ]
  },
  {
   "cell_type": "markdown",
   "metadata": {},
   "source": [
    "There exist different Data Types in Python. The most important are:\n",
    "* Numbers: \n",
    "    - Integer (-1, 3, 27, ...)\n",
    "    - Float (-1.4, 3.0, 36, ...)\n",
    "\n",
    "* Strings (\"Text\")\n",
    "\n",
    "This is important because it influences the behaviour of Python and not all data types are compatible to eachother. Let's try the * and the + operator down below. We notice that the behaviour changes according to the data type and that not all data types are compatible."
   ]
  },
  {
   "cell_type": "code",
   "execution_count": 5,
   "metadata": {},
   "outputs": [
    {
     "data": {
      "text/plain": [
       "7"
      ]
     },
     "execution_count": 5,
     "metadata": {},
     "output_type": "execute_result"
    }
   ],
   "source": [
    "a = 5\n",
    "b = 2\n",
    "a + b"
   ]
  },
  {
   "cell_type": "code",
   "execution_count": 6,
   "metadata": {},
   "outputs": [
    {
     "data": {
      "text/plain": [
       "'HelloHow are you?'"
      ]
     },
     "execution_count": 6,
     "metadata": {},
     "output_type": "execute_result"
    }
   ],
   "source": [
    "a = \"Hello\"\n",
    "b = \"How are you?\"\n",
    "a + b"
   ]
  },
  {
   "cell_type": "code",
   "execution_count": 7,
   "metadata": {},
   "outputs": [
    {
     "ename": "TypeError",
     "evalue": "can only concatenate str (not \"int\") to str",
     "output_type": "error",
     "traceback": [
      "\u001b[1;31m---------------------------------------------------------------------------\u001b[0m",
      "\u001b[1;31mTypeError\u001b[0m                                 Traceback (most recent call last)",
      "\u001b[1;32m<ipython-input-7-3e2490e2701b>\u001b[0m in \u001b[0;36m<module>\u001b[1;34m\u001b[0m\n\u001b[0;32m      1\u001b[0m \u001b[0ma\u001b[0m \u001b[1;33m=\u001b[0m \u001b[1;34m\"How old are you?\"\u001b[0m\u001b[1;33m\u001b[0m\u001b[1;33m\u001b[0m\u001b[0m\n\u001b[0;32m      2\u001b[0m \u001b[0mb\u001b[0m \u001b[1;33m=\u001b[0m \u001b[1;36m24\u001b[0m\u001b[1;33m\u001b[0m\u001b[1;33m\u001b[0m\u001b[0m\n\u001b[1;32m----> 3\u001b[1;33m \u001b[0ma\u001b[0m \u001b[1;33m+\u001b[0m \u001b[0mb\u001b[0m\u001b[1;33m\u001b[0m\u001b[1;33m\u001b[0m\u001b[0m\n\u001b[0m",
      "\u001b[1;31mTypeError\u001b[0m: can only concatenate str (not \"int\") to str"
     ]
    }
   ],
   "source": [
    "a = \"How old are you?\"\n",
    "b = 24\n",
    "a + b"
   ]
  },
  {
   "cell_type": "code",
   "execution_count": 8,
   "metadata": {},
   "outputs": [
    {
     "data": {
      "text/plain": [
       "15"
      ]
     },
     "execution_count": 8,
     "metadata": {},
     "output_type": "execute_result"
    }
   ],
   "source": [
    "d = 5\n",
    "d*3"
   ]
  },
  {
   "cell_type": "code",
   "execution_count": 9,
   "metadata": {},
   "outputs": [
    {
     "data": {
      "text/plain": [
       "'HelloHelloHello'"
      ]
     },
     "execution_count": 9,
     "metadata": {},
     "output_type": "execute_result"
    }
   ],
   "source": [
    "d = \"Hello\"\n",
    "d*3"
   ]
  },
  {
   "cell_type": "markdown",
   "metadata": {},
   "source": [
    "Usually numbers are compatible to each other and we can do arithmetic calculation. However as soon as we use a float in the calculation or divide to integers, the result will be another float. We call this implicit type conversion.\n",
    "\n",
    "In other cases e.g. `25 + \"5\"` implicit type conversion doesn't work and we need to do this explicitely, so called type casting. We can check the type with the `type()` function and if the conversion makes sense, convert certain types to other types using `int()`, `float()` or `str()`, which might lose some information (e.g. truncating when converting from float to integer)."
   ]
  },
  {
   "cell_type": "code",
   "execution_count": 10,
   "metadata": {},
   "outputs": [
    {
     "name": "stdout",
     "output_type": "stream",
     "text": [
      "2\n",
      "2.5\n",
      "2.5\n"
     ]
    }
   ],
   "source": [
    "print(5 - 3)\n",
    "print(5 - 2.5)\n",
    "print(5/2)"
   ]
  },
  {
   "cell_type": "code",
   "execution_count": 11,
   "metadata": {},
   "outputs": [
    {
     "name": "stdout",
     "output_type": "stream",
     "text": [
      "<class 'float'>\n"
     ]
    }
   ],
   "source": [
    "print(type(-4.89))"
   ]
  },
  {
   "cell_type": "code",
   "execution_count": 12,
   "metadata": {},
   "outputs": [
    {
     "name": "stdout",
     "output_type": "stream",
     "text": [
      "5\n",
      "5.0\n"
     ]
    }
   ],
   "source": [
    "print(int(5.7))\n",
    "print(float(5))"
   ]
  },
  {
   "cell_type": "code",
   "execution_count": 13,
   "metadata": {},
   "outputs": [
    {
     "name": "stdout",
     "output_type": "stream",
     "text": [
      "14.0\n",
      "14.0\n"
     ]
    },
    {
     "ename": "ValueError",
     "evalue": "invalid literal for int() with base 10: '14.0'",
     "output_type": "error",
     "traceback": [
      "\u001b[1;31m---------------------------------------------------------------------------\u001b[0m",
      "\u001b[1;31mValueError\u001b[0m                                Traceback (most recent call last)",
      "\u001b[1;32m<ipython-input-13-e191bbe76360>\u001b[0m in \u001b[0;36m<module>\u001b[1;34m\u001b[0m\n\u001b[0;32m      1\u001b[0m \u001b[0mprint\u001b[0m\u001b[1;33m(\u001b[0m\u001b[0mfloat\u001b[0m\u001b[1;33m(\u001b[0m\u001b[1;36m14\u001b[0m\u001b[1;33m)\u001b[0m\u001b[1;33m)\u001b[0m\u001b[1;33m\u001b[0m\u001b[1;33m\u001b[0m\u001b[0m\n\u001b[0;32m      2\u001b[0m \u001b[0mprint\u001b[0m\u001b[1;33m(\u001b[0m\u001b[0mfloat\u001b[0m\u001b[1;33m(\u001b[0m\u001b[1;34m\"14\"\u001b[0m\u001b[1;33m)\u001b[0m\u001b[1;33m)\u001b[0m\u001b[1;33m\u001b[0m\u001b[1;33m\u001b[0m\u001b[0m\n\u001b[1;32m----> 3\u001b[1;33m \u001b[0mprint\u001b[0m\u001b[1;33m(\u001b[0m\u001b[0mint\u001b[0m\u001b[1;33m(\u001b[0m\u001b[1;34m\"14.0\"\u001b[0m\u001b[1;33m)\u001b[0m\u001b[1;33m)\u001b[0m\u001b[1;33m\u001b[0m\u001b[1;33m\u001b[0m\u001b[0m\n\u001b[0m",
      "\u001b[1;31mValueError\u001b[0m: invalid literal for int() with base 10: '14.0'"
     ]
    }
   ],
   "source": [
    "print(float(14))\n",
    "print(float(\"14\"))\n",
    "print(int(\"14.0\"))"
   ]
  },
  {
   "cell_type": "code",
   "execution_count": 14,
   "metadata": {},
   "outputs": [
    {
     "name": "stdout",
     "output_type": "stream",
     "text": [
      "30\n",
      "I'm 24 years old.\n"
     ]
    }
   ],
   "source": [
    "print(25 + int(\"5\"))\n",
    "print(\"I'm \" + str(24) + \" years old.\")"
   ]
  },
  {
   "cell_type": "markdown",
   "metadata": {},
   "source": [
    "## Functions"
   ]
  },
  {
   "cell_type": "markdown",
   "metadata": {},
   "source": [
    "Functions allow us to build custom blocks of code and the whole block can then be executed by calling the function\n",
    "by its name. Doing this we don't need to repeat our code every time we want to use it or run our program several times because we can simply call our function several times.\n",
    "\n",
    "Using functions makes our code not only more reusable but also much more structured and easier to understand. This improved structure also allows us to make changes in the function only once instead of searching the necessary change in each copy of the code. Not changing the result of our code but the way we do it, is called **Refactoring** and this is exactly what we can do when writing a function instead of writing all code to be executed directly."
   ]
  },
  {
   "cell_type": "markdown",
   "metadata": {},
   "source": [
    "Functions can be invoked by their name + () e.g. `print()` or `input()`, which are already defined functions. But we can also define our own function to do code logic we want it to do. We define a function and assign this definition to the variable which equals its function name. Therefore a function consists of a name, (optional) input, some code/instructions to execute and an output. Let's investigate this for the input function:\n",
    "\n",
    "* Name: input\n",
    "* Input: () <- whatever we put into the brackets\n",
    "* Code: *asks the user for a text (question depending on the input) and waits until something has been entered*\n",
    "* Output: string of *whatever the user entered* <- can be stored in another variable\n",
    "\n",
    "All functions do have these atleast 3 ingredients (except optional input), in the case of a print function the output simply is **None**."
   ]
  },
  {
   "cell_type": "markdown",
   "metadata": {},
   "source": [
    "Here we can see some of Python's already defined functions:"
   ]
  },
  {
   "cell_type": "code",
   "execution_count": 15,
   "metadata": {},
   "outputs": [
    {
     "name": "stdout",
     "output_type": "stream",
     "text": [
      "1\n",
      "3\n",
      "6\n",
      "25\n",
      "8\n",
      "6\n"
     ]
    }
   ],
   "source": [
    "print(min([1, 2, 3]))\n",
    "print(max([1, 2, 3]))\n",
    "print(sum([1, 2, 3]))\n",
    "      \n",
    "print(abs(-25))\n",
    "print(pow(2, 3))\n",
    "print(round(5.6))"
   ]
  },
  {
   "cell_type": "markdown",
   "metadata": {},
   "source": [
    "### Defining & invoking a function"
   ]
  },
  {
   "cell_type": "markdown",
   "metadata": {},
   "source": [
    "The **Keyword `def`** is needed to define a function. Then we specify the **name of the function** (for the name we have to follow the same rules as for variables; *usually we use (imperative) verbs for the name, unless nouns are shorter and unambiguous*) and in brackets which **input** the function should get followed by a **colon**.\n",
    "\n",
    "We then define what **happens inside** the function, which is done by *indentation* in Python. This might include a **return** statement which specifies which value should be returned, if there is no return statement the function simply returns None. **It is important to notice**, that variables inside a function are in a different scope/namespace (local, not global) and therefore only accessible from within this function. This means that the same variable name can be used in and outside of the function for different values."
   ]
  },
  {
   "cell_type": "code",
   "execution_count": 16,
   "metadata": {},
   "outputs": [],
   "source": [
    "def years_to_retirement(current_age):\n",
    "    years_before_retirement = 67 - current_age\n",
    "    return years_before_retirement"
   ]
  },
  {
   "cell_type": "markdown",
   "metadata": {},
   "source": [
    "We can then invoke this function by name + ():"
   ]
  },
  {
   "cell_type": "code",
   "execution_count": 17,
   "metadata": {},
   "outputs": [
    {
     "name": "stdout",
     "output_type": "stream",
     "text": [
      "40\n"
     ]
    }
   ],
   "source": [
    "ytr = years_to_retirement(27)\n",
    "print(ytr)"
   ]
  },
  {
   "cell_type": "markdown",
   "metadata": {},
   "source": [
    "# Summer School 2022: Day 2"
   ]
  },
  {
   "cell_type": "markdown",
   "metadata": {},
   "source": [
    "## Conditionals"
   ]
  },
  {
   "cell_type": "markdown",
   "metadata": {},
   "source": [
    "Conditionals allow us to decide what our program should do based on certain situations/*conditions*. Conditionals resolve a question/**expression** into a **Boolean (True / False)**, e.g. `age == 40` resolves to true if age is 40, otherwise it resolves to False. Depending on this (in some cases explicit (e.g. `if True`), otherwise implicit) Boolean our code should do different things.\n",
    "\n",
    "We can use almost all logical comparisons such as **==**, **!=**, **>**, **<=**, ...\n",
    "\n",
    "We can construct several conditional blocks with the words **if** (condition true = do this), **elif** (conditions above false but this condition true = do this) & **else** (all conditions above false = do this). Please note that the first `if` is mandatory, the rest is optional. Also note that `elif` can be repeated as many times as we want, but `if` and `else` can only exist once per block. The code it should execute in these cases is again indented. *We can also nest conditionals within other conditionals.* It is important to understand that only **one code per block** (*on the same indentation level*) can be executed and all other code is discarded.\n",
    "\n",
    "Possible conditional constructs are:\n",
    "- if *expression* (most basic, only executes code if an expression is True)\n",
    "- if *expression*; else (executes the first code if an expression is True, otherwise the second code)\n",
    "- if *expression*; elif *expression*; (elif ...) (the difference between if; elif and if; if is that in the second case both conditions can be true and the corresponding code is executed, while in the first case the execution of further code in the same block is skipped as soon as on code per block has been executed)\n",
    "- if *expression*; elif *expression*; (elif ...); else"
   ]
  },
  {
   "cell_type": "code",
   "execution_count": 18,
   "metadata": {},
   "outputs": [],
   "source": [
    "x = 15"
   ]
  },
  {
   "cell_type": "code",
   "execution_count": 19,
   "metadata": {},
   "outputs": [],
   "source": [
    "if x < 10:\n",
    "    print(x, \"is smaller than 10.\")"
   ]
  },
  {
   "cell_type": "code",
   "execution_count": 20,
   "metadata": {},
   "outputs": [
    {
     "name": "stdout",
     "output_type": "stream",
     "text": [
      "15 is larger/equal to 10.\n"
     ]
    }
   ],
   "source": [
    "if x < 10:\n",
    "    print(x, \"is smaller than 10.\")\n",
    "else:\n",
    "    print(x, \"is larger/equal to 10.\")"
   ]
  },
  {
   "cell_type": "code",
   "execution_count": 21,
   "metadata": {},
   "outputs": [
    {
     "name": "stdout",
     "output_type": "stream",
     "text": [
      "15 is smaller than 20 but larger/equal to 10.\n",
      "\n",
      "Note the crucial difference between if/elif and if/if (best seen with x=15):\n",
      "\n",
      "15 is smaller than 20 but larger/equal to 10.\n",
      "15 is smaller than 30 but larger/equal to 20.\n"
     ]
    }
   ],
   "source": [
    "if x < 10:\n",
    "    print(x, \"is smaller than 10.\")\n",
    "elif x < 20:\n",
    "    print(x, \"is smaller than 20 but larger/equal to 10.\")\n",
    "elif x < 30:\n",
    "    print(x, \"is smaller than 30 but larger/equal to 20.\")\n",
    "\n",
    "print()\n",
    "print(\"Note the crucial difference between if/elif and if/if (best seen with x=15):\")\n",
    "print()\n",
    "\n",
    "if x < 10:\n",
    "    print(x, \"is smaller than 10.\")\n",
    "if x < 20:\n",
    "    print(x, \"is smaller than 20 but larger/equal to 10.\")\n",
    "if x < 30:\n",
    "    print(x, \"is smaller than 30 but larger/equal to 20.\")"
   ]
  },
  {
   "cell_type": "code",
   "execution_count": 22,
   "metadata": {},
   "outputs": [
    {
     "name": "stdout",
     "output_type": "stream",
     "text": [
      "15 is smaller than 20 but larger/equal to 10.\n"
     ]
    }
   ],
   "source": [
    "if x < 10:\n",
    "    print(x, \"is smaller than 10.\")\n",
    "elif x < 20:\n",
    "    print(x, \"is smaller than 20 but larger/equal to 10.\")\n",
    "elif x < 30:\n",
    "    print(x, \"is smaller than 30 but larger/equal to 20.\")\n",
    "else:\n",
    "    print(x, \"is larger/equal to 30.\")"
   ]
  },
  {
   "cell_type": "markdown",
   "metadata": {},
   "source": [
    "## Loops"
   ]
  },
  {
   "cell_type": "markdown",
   "metadata": {},
   "source": [
    "Loops allow us to execute the same code repeatedly for a number of times. This allows us to do repetitive tasks and take advantage of the computers incredible speed of computing.\n",
    "\n",
    "We already saw that we can package code into functions so we don't have to write it several times but call the function whenever we need it. Loops go in the same direction but instead of giving us this flexibility in calling a function whenever we need it, a loop executes it's code or a function several times. E.g. we can write *function()*; *function()*; *function* OR a loop that says do *function()* 3 times.\n",
    "\n",
    "There are two types of loops: while-loops and for-loops (covered in the list chapter)."
   ]
  },
  {
   "cell_type": "markdown",
   "metadata": {},
   "source": [
    "### while-loop"
   ]
  },
  {
   "cell_type": "markdown",
   "metadata": {},
   "source": [
    "While loops are used when the number of iterations is unknown/we don't iterate through a datastructure that determines the number of repetitions. **Make sure that you always have a STOPPING CONDITION, otherwise you'll be stuck in an infinite loop.** The syntax is:\n",
    "\n",
    "    while *expression/condition*:                  <- the expression must resolve to true or false\n",
    "       *code*                                      <- as long as the expression is true, this code is executed\n",
    "\n",
    "The keywords **break** and **continue** allow us to control the loop further. Break immediately exits the loop code-block and continues afterwards. Continue only skips the current iteration of the loop and (if possible) continues with the next loop iteration."
   ]
  },
  {
   "cell_type": "code",
   "execution_count": 23,
   "metadata": {},
   "outputs": [
    {
     "name": "stdout",
     "output_type": "stream",
     "text": [
      "Stop? [Y/N] N\n",
      "0\n",
      "Stop? [Y/N] N\n",
      "1\n",
      "Stop? [Y/N] Y\n"
     ]
    }
   ],
   "source": [
    "n = 0\n",
    "while n <= 3:\n",
    "    if input(\"Stop? [Y/N] \") == \"Y\":\n",
    "        break\n",
    "    print(n)\n",
    "    n += 1"
   ]
  },
  {
   "cell_type": "markdown",
   "metadata": {},
   "source": [
    "## Lists"
   ]
  },
  {
   "cell_type": "markdown",
   "metadata": {},
   "source": [
    "Lists are a collectible / another data type that allow us to store different other datatypes within this list (also lists within other lists are possible). We define lists with `[]` and seperate the different items with `,`. **Don't name the list variable 'list' because this will overwrite Python's default behaviour of the list function.**"
   ]
  },
  {
   "cell_type": "code",
   "execution_count": 24,
   "metadata": {},
   "outputs": [
    {
     "name": "stdout",
     "output_type": "stream",
     "text": [
      "[1, 'Apple', [1, 2, 3], 29.3, 'Hello']\n"
     ]
    }
   ],
   "source": [
    "a_list = [1, \"Apple\", [1, 2, 3], 29.3, \"Hello\"]\n",
    "print(a_list)"
   ]
  },
  {
   "cell_type": "markdown",
   "metadata": {},
   "source": [
    "We can then use different functions on this list. Here are some functions to select/change values from the list (\"indexing\"):"
   ]
  },
  {
   "cell_type": "code",
   "execution_count": 25,
   "metadata": {},
   "outputs": [
    {
     "name": "stdout",
     "output_type": "stream",
     "text": [
      "1\n",
      "24\n",
      "Hello\n",
      "[1, 24]\n",
      "[1, 24]\n",
      "[[1, 2, 3], 29.3, 'Hello']\n"
     ]
    }
   ],
   "source": [
    "print(a_list[0])     #selects the first item\n",
    "a_list[1] = 24       #selects the second item and changes it to the new given value\n",
    "print(a_list[1])      #selects the second item\n",
    "print(a_list[-1])     #selects the last item\n",
    "\n",
    "print(a_list[0:2])    #selects the items from start (inclusive) to end (exclusive)\n",
    "print(a_list[:2])     #we can omit the first number which means start at the beginning of the list\n",
    "print(a_list[2:])     #we can omit the first number which means end at the end of the list"
   ]
  },
  {
   "cell_type": "markdown",
   "metadata": {},
   "source": [
    "Here are some functions to add values to a list:"
   ]
  },
  {
   "cell_type": "code",
   "execution_count": 26,
   "metadata": {},
   "outputs": [
    {
     "name": "stdout",
     "output_type": "stream",
     "text": [
      "[]\n"
     ]
    }
   ],
   "source": [
    "b_list = []\n",
    "print(b_list)"
   ]
  },
  {
   "cell_type": "code",
   "execution_count": 27,
   "metadata": {},
   "outputs": [
    {
     "name": "stdout",
     "output_type": "stream",
     "text": [
      "['Water', 'Salt', 'Pasta']\n"
     ]
    }
   ],
   "source": [
    "b_list.append(\"Water\")            #adds a value to the end of the list\n",
    "b_list.append(\"Salt\")             #adds a value to the end of the list\n",
    "b_list.append(\"Pasta\")            #adds a value to the end of the list\n",
    "print(b_list)"
   ]
  },
  {
   "cell_type": "code",
   "execution_count": 28,
   "metadata": {},
   "outputs": [
    {
     "name": "stdout",
     "output_type": "stream",
     "text": [
      "['Water', 'Salt', 'Pasta', 'Himalayan Salt']\n",
      "['Water', 'Salt', 'Pasta', 'Himalayan Salt', 'Tomatoes', 'Pepper', 'Chili']\n"
     ]
    }
   ],
   "source": [
    "b_list = b_list + [\"Himalayan Salt\"]    #concatenates two lists - adds one/several value to the end of the list\n",
    "print(b_list)\n",
    "\n",
    "b_list.extend([\"Tomatoes\", \"Pepper\", \"Chili\"])     #adds several values to the end of the list\n",
    "print(b_list)"
   ]
  },
  {
   "cell_type": "code",
   "execution_count": 29,
   "metadata": {},
   "outputs": [
    {
     "name": "stdout",
     "output_type": "stream",
     "text": [
      "['Water', 'Salt', 'Pasta', 'Himalayan Salt', 'Flour', 'Tomatoes', 'Pepper', 'Chili']\n"
     ]
    }
   ],
   "source": [
    "b_list.insert(4, \"Flour\")        #adds a value (2nd argument) to the list at the specified index (1st argument)\n",
    "print(b_list)"
   ]
  },
  {
   "cell_type": "markdown",
   "metadata": {},
   "source": [
    "Here are some functions to delete values from a list:"
   ]
  },
  {
   "cell_type": "code",
   "execution_count": 30,
   "metadata": {},
   "outputs": [
    {
     "name": "stdout",
     "output_type": "stream",
     "text": [
      "['Water', 'Pasta', 'Himalayan Salt', 'Flour', 'Tomatoes', 'Pepper', 'Chili']\n",
      "['Water', 'Pasta', 'Himalayan Salt', 'Tomatoes', 'Pepper', 'Chili']\n",
      "Flour\n"
     ]
    }
   ],
   "source": [
    "b_list.remove(\"Salt\")            #removes a value (defined by its content)\n",
    "print(b_list)\n",
    "\n",
    "x = b_list.pop(3)                #removes the value at the specified index and RETURNS it (no index = last value)\n",
    "print(b_list)\n",
    "print(x)"
   ]
  },
  {
   "cell_type": "code",
   "execution_count": 31,
   "metadata": {},
   "outputs": [
    {
     "name": "stdout",
     "output_type": "stream",
     "text": [
      "[]\n"
     ]
    }
   ],
   "source": [
    "b_list.clear()              #deletes all content from the list\n",
    "print(b_list)"
   ]
  },
  {
   "cell_type": "markdown",
   "metadata": {},
   "source": [
    "There are many other functions like len(), max()/min(), sum(), reverse() which can be used on different iterators and also work on lists."
   ]
  },
  {
   "cell_type": "code",
   "execution_count": 32,
   "metadata": {},
   "outputs": [
    {
     "name": "stdout",
     "output_type": "stream",
     "text": [
      "5\n",
      "5\n",
      "15\n",
      "[5, 4, 3, 2, 1]\n"
     ]
    }
   ],
   "source": [
    "num_list = [1, 2, 3, 4, 5]\n",
    "print(len(num_list))               #how long our list is / how many items does our list contain\n",
    "print(max(num_list))\n",
    "print(sum(num_list))\n",
    "print(list(reversed(num_list)))"
   ]
  },
  {
   "cell_type": "markdown",
   "metadata": {},
   "source": [
    "### for-loop"
   ]
  },
  {
   "cell_type": "markdown",
   "metadata": {},
   "source": [
    "An important concept is using a for-loop together with an iterable (e.g. a list) to iterate over all items in the list and do something with/to them. We could do the same with a while loop but it is easier with a for loop.\n",
    "\n",
    "A for loop iterates element-by-element through an iterator (e.g. a list) and is usually used if we want to execute code a predefined number of times (determined by the items in the iterator). The Syntax is:\n",
    "\n",
    "    for *item* in *iterator*:                  <- in each iteration this goes through our iterator \n",
    "        *code*                                 "
   ]
  },
  {
   "cell_type": "code",
   "execution_count": 33,
   "metadata": {},
   "outputs": [
    {
     "name": "stdout",
     "output_type": "stream",
     "text": [
      "1\n",
      "24\n",
      "[1, 2, 3]\n",
      "29.3\n",
      "Hello\n",
      "-----------\n",
      "1\n",
      "24\n",
      "[1, 2, 3]\n",
      "29.3\n",
      "Hello\n"
     ]
    }
   ],
   "source": [
    "i = 0\n",
    "while i < len(a_list):\n",
    "    print(a_list[i])\n",
    "    i += 1\n",
    "\n",
    "print(\"-----------\")\n",
    "    \n",
    "for item in a_list:\n",
    "    print(item)"
   ]
  },
  {
   "cell_type": "markdown",
   "metadata": {},
   "source": [
    "We can use the function enumerate together with the for-loop to get the index and the value of the items in the list:"
   ]
  },
  {
   "cell_type": "code",
   "execution_count": 34,
   "metadata": {},
   "outputs": [
    {
     "name": "stdout",
     "output_type": "stream",
     "text": [
      "0 1\n",
      "1 24\n",
      "2 [1, 2, 3]\n",
      "3 29.3\n",
      "4 Hello\n"
     ]
    }
   ],
   "source": [
    "for index, item in enumerate(a_list):\n",
    "    print(index, item)"
   ]
  },
  {
   "cell_type": "markdown",
   "metadata": {},
   "source": [
    "### Pass values by reference VS Pass values by value"
   ]
  },
  {
   "cell_type": "markdown",
   "metadata": {},
   "source": [
    "Integer, Float, Strings & Booleans are always passed by value. This means when we define a variable with one of these datatypes and then define a second variable being equal to the first variable, **the value is copied**.\n",
    "\n",
    "When we use lists or some other objects we only pass the **reference to this value** and not a mere copy. We can see the difference below:"
   ]
  },
  {
   "cell_type": "code",
   "execution_count": 35,
   "metadata": {},
   "outputs": [
    {
     "name": "stdout",
     "output_type": "stream",
     "text": [
      "5\n",
      "2\n",
      "[1, 2, 3]\n",
      "[5, 7]\n",
      "[1, 2, 3, 4, 5, 6]\n",
      "[1, 2, 3, 4, 5, 6]\n"
     ]
    }
   ],
   "source": [
    "a = 2\n",
    "b = a\n",
    "a = 5\n",
    "print(a)\n",
    "print(b)\n",
    "\n",
    "a_l = [1, 2, 3]\n",
    "b_l = a_l\n",
    "b_l = [5, 7]\n",
    "print(a_l)\n",
    "print(b_l)\n",
    "\n",
    "a_list = [1, 2, 3, 4, 5]\n",
    "b_list = a_list\n",
    "b_list.append(6)\n",
    "print(a_list)\n",
    "print(b_list)"
   ]
  },
  {
   "cell_type": "markdown",
   "metadata": {},
   "source": [
    "# Summer School 2022: Day 3"
   ]
  },
  {
   "cell_type": "markdown",
   "metadata": {},
   "source": [
    "## Dictionaries"
   ]
  },
  {
   "cell_type": "markdown",
   "metadata": {},
   "source": [
    "Dictionaries are a collectible / another data type that allow us to store different other datatypes as key-value-pair within this dictionary (also collectibles within other collectibles are possible).\n",
    "\n",
    "The **main difference** to lists is, that we don't need a sequence in a certain order (instead of numbered indeces from 0 to n) and have much more flexibility in terms of missing keys and can use other datatypes (don't need numbers as keys) -> Starting with Python 3.7 dictionaries are insertion ordered and lists are ORDERED.\n",
    "\n",
    "We define dictionaries with `{}` and seperate the different key-values pairs (key & value are seperated by `:`; **keys need to be unique**; *keys need to be hashable*) with `,`. This key-value pair connection allows us to keep a structure in our data and use dictionaries to **hold information**.\n",
    "\n",
    "**Don't name the dictionary variable 'dict' because this will overwrite Python's default behaviour of the list function.**"
   ]
  },
  {
   "cell_type": "code",
   "execution_count": 36,
   "metadata": {},
   "outputs": [
    {
     "name": "stdout",
     "output_type": "stream",
     "text": [
      "{1: 'Hello', 'Apple': 27.5, 123: [1, 2, 3]}\n"
     ]
    }
   ],
   "source": [
    "a_dict = {1:\"Hello\", \"Apple\": 27.5, 123: [1, 2, 3]}\n",
    "print(a_dict)"
   ]
  },
  {
   "cell_type": "markdown",
   "metadata": {},
   "source": [
    "We can then select/change (selecting and overwriting) values in this dictionary through the key. If we don't know whether this key exists, we can use the get function to address this problem."
   ]
  },
  {
   "cell_type": "code",
   "execution_count": 37,
   "metadata": {},
   "outputs": [
    {
     "name": "stdout",
     "output_type": "stream",
     "text": [
      "Hello\n",
      "{1: 'Hello', 'Apple': 'Tea', 123: [1, 2, 3]}\n",
      "Tea\n",
      "None\n"
     ]
    },
    {
     "ename": "KeyError",
     "evalue": "'Banana'",
     "output_type": "error",
     "traceback": [
      "\u001b[1;31m---------------------------------------------------------------------------\u001b[0m",
      "\u001b[1;31mKeyError\u001b[0m                                  Traceback (most recent call last)",
      "\u001b[1;32m<ipython-input-37-f02595aca63c>\u001b[0m in \u001b[0;36m<module>\u001b[1;34m\u001b[0m\n\u001b[0;32m      6\u001b[0m \u001b[0mprint\u001b[0m\u001b[1;33m(\u001b[0m\u001b[0ma_dict\u001b[0m\u001b[1;33m.\u001b[0m\u001b[0mget\u001b[0m\u001b[1;33m(\u001b[0m\u001b[1;34m\"Apple\"\u001b[0m\u001b[1;33m)\u001b[0m\u001b[1;33m)\u001b[0m    \u001b[1;31m#when the key exists, .get behaves similarly\u001b[0m\u001b[1;33m\u001b[0m\u001b[1;33m\u001b[0m\u001b[0m\n\u001b[0;32m      7\u001b[0m \u001b[0mprint\u001b[0m\u001b[1;33m(\u001b[0m\u001b[0ma_dict\u001b[0m\u001b[1;33m.\u001b[0m\u001b[0mget\u001b[0m\u001b[1;33m(\u001b[0m\u001b[1;34m\"Banana\"\u001b[0m\u001b[1;33m)\u001b[0m\u001b[1;33m)\u001b[0m      \u001b[1;31m#however if it doesn't exist .get returns None\u001b[0m\u001b[1;33m\u001b[0m\u001b[1;33m\u001b[0m\u001b[0m\n\u001b[1;32m----> 8\u001b[1;33m \u001b[0mprint\u001b[0m\u001b[1;33m(\u001b[0m\u001b[0ma_dict\u001b[0m\u001b[1;33m[\u001b[0m\u001b[1;34m\"Banana\"\u001b[0m\u001b[1;33m]\u001b[0m\u001b[1;33m)\u001b[0m          \u001b[1;31m#while directly looking for the key results in an Error\u001b[0m\u001b[1;33m\u001b[0m\u001b[1;33m\u001b[0m\u001b[0m\n\u001b[0m",
      "\u001b[1;31mKeyError\u001b[0m: 'Banana'"
     ]
    }
   ],
   "source": [
    "print(a_dict[1])       #selects the value with the key 1\n",
    "\n",
    "a_dict[\"Apple\"] = \"Tea\"    #selects & overwrites the value with the key 'Apple'\n",
    "print(a_dict)\n",
    "\n",
    "print(a_dict.get(\"Apple\"))    #when the key exists, .get behaves similarly\n",
    "print(a_dict.get(\"Banana\"))      #however if it doesn't exist .get returns None\n",
    "print(a_dict[\"Banana\"])          #while directly looking for the key results in an Error"
   ]
  },
  {
   "cell_type": "markdown",
   "metadata": {},
   "source": [
    "Adding values to a dictionary is very easy and similar to above notation. Instead of using an existing key and overwriting the value, we simply use a new key and assign it a value:"
   ]
  },
  {
   "cell_type": "code",
   "execution_count": 38,
   "metadata": {},
   "outputs": [
    {
     "name": "stdout",
     "output_type": "stream",
     "text": [
      "{}\n"
     ]
    }
   ],
   "source": [
    "b_dict = {}\n",
    "print(b_dict)"
   ]
  },
  {
   "cell_type": "code",
   "execution_count": 39,
   "metadata": {},
   "outputs": [
    {
     "name": "stdout",
     "output_type": "stream",
     "text": [
      "{2: 25, 'Hello': [1, 3, 6], 3: 'Apple'}\n"
     ]
    }
   ],
   "source": [
    "b_dict[2] = 25\n",
    "b_dict[\"Hello\"] = [1, 3, 6]\n",
    "b_dict[3] = \"Apple\"\n",
    "print(b_dict)"
   ]
  },
  {
   "cell_type": "markdown",
   "metadata": {},
   "source": [
    "There are several ways to remove an item from a dictionary:"
   ]
  },
  {
   "cell_type": "code",
   "execution_count": 40,
   "metadata": {},
   "outputs": [
    {
     "name": "stdout",
     "output_type": "stream",
     "text": [
      "{2: 25, 'Hello': [1, 3, 6], 3: None}\n",
      "{'Hello': [1, 3, 6], 3: None}\n",
      "25\n"
     ]
    }
   ],
   "source": [
    "b_dict[3] = None       #Deleting only the value by reassigning None to this key\n",
    "print(b_dict)\n",
    "\n",
    "x = b_dict.pop(2, None)      #Delete the key-value-pair (by its key) and RETURN it. The 2nd param handles a possible error.\n",
    "print(b_dict)                # ^without the optional 2nd param we would get an error.\n",
    "print(x)\n",
    "\n"
   ]
  },
  {
   "cell_type": "markdown",
   "metadata": {},
   "source": [
    "Two other important functions are `in`/`not in` and `copy`. In checks whether a certain key exists in the dictionary while copy creates a **shallow** copy (similar to pass by copy, but only the outmost items are really copied, nested lists are still by reference)."
   ]
  },
  {
   "cell_type": "code",
   "execution_count": 41,
   "metadata": {},
   "outputs": [
    {
     "name": "stdout",
     "output_type": "stream",
     "text": [
      "True\n",
      "Pass by Reference:\n",
      "{'Hello': [1, 3, 6]}\n",
      "{'Hello': [1, 3, 6]}\n",
      "COPY (shallow pass by copy):\n",
      "{'Hello': [1, 3, 6]}\n",
      "{}\n"
     ]
    }
   ],
   "source": [
    "print(\"Hello\" in b_dict)\n",
    "\n",
    "print(\"Pass by Reference:\")\n",
    "c_dict = b_dict\n",
    "c_dict.pop(3)\n",
    "print(b_dict)\n",
    "print(c_dict)\n",
    "\n",
    "print(\"COPY (shallow pass by copy):\")\n",
    "d_dict = b_dict.copy()\n",
    "d_dict.clear()\n",
    "print(b_dict)\n",
    "print(d_dict)"
   ]
  },
  {
   "cell_type": "markdown",
   "metadata": {},
   "source": [
    "There are three useful functions to select all keys, values or key:value pairs from a dictionary. We can then iterate through these iterables with a for-loop."
   ]
  },
  {
   "cell_type": "code",
   "execution_count": 42,
   "metadata": {},
   "outputs": [
    {
     "name": "stdout",
     "output_type": "stream",
     "text": [
      "dict_keys([1, 'Apple', 123])\n",
      "dict_values(['Hello', 'Tea', [1, 2, 3]])\n",
      "dict_items([(1, 'Hello'), ('Apple', 'Tea'), (123, [1, 2, 3])])\n"
     ]
    }
   ],
   "source": [
    "print(a_dict.keys())\n",
    "print(a_dict.values())\n",
    "print(a_dict.items())"
   ]
  },
  {
   "cell_type": "code",
   "execution_count": 43,
   "metadata": {},
   "outputs": [
    {
     "name": "stdout",
     "output_type": "stream",
     "text": [
      "1 : Hello\n",
      "Apple : Tea\n",
      "123 : [1, 2, 3]\n"
     ]
    }
   ],
   "source": [
    "for key, value in a_dict.items():\n",
    "    print(key, \":\", value)"
   ]
  },
  {
   "cell_type": "markdown",
   "metadata": {},
   "source": [
    "**Describe three differences between dictionaries and lists. Give two examples where you would use a list instead of a dictionary and two where you would instead use a dictionary--motivate your choices**"
   ]
  },
  {
   "cell_type": "markdown",
   "metadata": {},
   "source": [
    "1. Dictionaries are more flexible, you can use any type of key to index your elements.\n",
    "2. Dictionaries do not offer any warranty on the fact that the elements are ordered in the same way they were entered.\n",
    "3. Dictionaries require you to know the specific keys to retrieve values, while lists you can always use numerical indexes to retrieve the content.\n",
    "\n",
    "- I could use a list instead of a dictionary in the previous function, remembering though that the first month will be 0 instead of 1.\n",
    "- I would use a list instead of a dictionary to hold the courses I passed, if I want to preserve also the order in which I passed them.\n",
    "- I would use a dictionary when I know that the elements that it is going to contain will be retrieved with something else than an integer number\n",
    "- I would use a dictionary when there is an important and memorable association between keys and values (e.g., in the example of the cantons and their abbreviations)"
   ]
  },
  {
   "cell_type": "markdown",
   "metadata": {},
   "source": [
    "## Files"
   ]
  },
  {
   "cell_type": "markdown",
   "metadata": {},
   "source": [
    "Each computer has 3 key components:\n",
    "* CPU: Central Processing Unit (faster=more information can be processed) - all calculations/everything our computer does (connected to both memories)\n",
    "* HD/SSD: Memory (more=more information can be stored) - persistent & slow (used to store files)\n",
    "* RAM: Memory (more=more programs in parallel e.g. Photoshop) - temporary & fast (emptied when computer/program is turned off) -> used to run our (python) programs\n",
    "\n",
    "In a computer we got two types/families of files:\n",
    "* Binary Files (PDF, DOC, XLS): have to be opened with a special program because the bytes would look like rubbish to us in a text editor\n",
    "* Textual Files (PY, TXT): normal text that can be opened by any text editor and can be read normally"
   ]
  },
  {
   "cell_type": "markdown",
   "metadata": {},
   "source": [
    "We not only want to store our Python files permanently on the HD/SSD, but also want to work with data within our Python programs. For this we use files. The basic syntax to open a file looks like this:\n",
    "\n",
    "    f = open(\"file.txt\", \"r\")       -> opens the designated file (in the path) in \"r\"eading mode & stores it in FILE OBJECT\n",
    "    content = f.read()              -> reads the content. DIFFERENT FUNCTIONS EXITS for reading, writing and tell & seek\n",
    "    f.close()                       -> don't forget to CLOSE the file (e.g. when we open with exclusive mode)\n",
    "\n",
    "Other modes are:\n",
    "* r: Open to read\n",
    "* w: Open to write, create if not there, delete content if there\n",
    "* a: Open to append, add new content to the end of the file\n",
    "* x: Open to write in exclusive mode (only program working on that file), error if not there, delete content if there\n",
    "* r+: Open to modify, can read & write\n",
    "* w+: Open to modify, can read & write, delete content if there"
   ]
  },
  {
   "cell_type": "markdown",
   "metadata": {},
   "source": [
    "Because closing our file is important there exists a **special construct that wraps around our open function** and automatically closes the file at the end:\n",
    "\n",
    "    with open(\"file.txt\", \"r\") as f:\n",
    "        content = f.read()"
   ]
  },
  {
   "cell_type": "markdown",
   "metadata": {},
   "source": [
    "## Modules"
   ]
  },
  {
   "cell_type": "markdown",
   "metadata": {},
   "source": [
    "Usually common functions have already been written by some people. Some of these functions very so common that the Python developers already included them in the language. Others are not that common or from a specific domain (e.g. math) but have also already been defined by other people and bundled in **libraries**. We can use these functions by `importing` the **library / the specific module of the library** (most of them are already on our computer, some need to be installed seperately beforehand).\n",
    "\n",
    "There are different possibilities to import and use modules:"
   ]
  },
  {
   "cell_type": "code",
   "execution_count": 44,
   "metadata": {},
   "outputs": [
    {
     "name": "stdout",
     "output_type": "stream",
     "text": [
      "2022-09-01 19:15:26.425555\n"
     ]
    }
   ],
   "source": [
    "import datetime                  #imports the whole module\n",
    "print(datetime.datetime.now())   #calls a specific function within this module"
   ]
  },
  {
   "cell_type": "code",
   "execution_count": 45,
   "metadata": {},
   "outputs": [
    {
     "name": "stdout",
     "output_type": "stream",
     "text": [
      "2022-09-01 19:15:27.205339\n"
     ]
    }
   ],
   "source": [
    "import datetime as dt            #imports the whole module with an ALIAS (syntactic sugar)\n",
    "print(dt.datetime.now())         #calls a specific function within this module"
   ]
  },
  {
   "cell_type": "code",
   "execution_count": 46,
   "metadata": {},
   "outputs": [
    {
     "name": "stdout",
     "output_type": "stream",
     "text": [
      "2022-09-01 19:15:28.011639\n"
     ]
    }
   ],
   "source": [
    "from datetime import datetime      #imports part of a module\n",
    "print(datetime.now())              #calls a specific function within this module"
   ]
  },
  {
   "cell_type": "code",
   "execution_count": 47,
   "metadata": {},
   "outputs": [
    {
     "name": "stdout",
     "output_type": "stream",
     "text": [
      "2022-09-01 19:15:28.726637\n"
     ]
    }
   ],
   "source": [
    "from datetime import datetime as dt    #imports part of a module with an ALIAS (syntactic sugar)\n",
    "print(dt.now())                        #calls a specific function within this module"
   ]
  },
  {
   "cell_type": "code",
   "execution_count": 48,
   "metadata": {},
   "outputs": [
    {
     "name": "stdout",
     "output_type": "stream",
     "text": [
      "2022-09-01 19:15:29.456850\n"
     ]
    }
   ],
   "source": [
    "from datetime import *           #imports all functions from a module directly into the namespace. NOT RECOMMENDED.\n",
    "print(datetime.now())            #this can overwrite functions with the same name & only import the ones we want to use!"
   ]
  },
  {
   "cell_type": "markdown",
   "metadata": {},
   "source": [
    "Creating our own module is very easy. We can simply save our python program and then import it from another file similar to the importing procedure from above. E.g. if the first file is called `functions.py` we can import it with `import functions` (or differently as shown above)."
   ]
  },
  {
   "cell_type": "markdown",
   "metadata": {},
   "source": [
    "# Summer School 2022: Day 4"
   ]
  },
  {
   "cell_type": "markdown",
   "metadata": {},
   "source": [
    "## Object Oriented Programming"
   ]
  },
  {
   "cell_type": "markdown",
   "metadata": {},
   "source": [
    "In other datatypes e.g. dictionaries we can hold information about entities that look very similar and have the same type of information inside. The problem is that we have the flexibility to store anything we want in a dictionary and **nobody forces us to always have the same information** (=more structured & less error prone). A further disadvantage is that these entities only hold data but can not do certain actions. Depending on the level of nested information it can also be very cumbersome to retrieve certain information from a dictionary / add a new entry to the dictionary."
   ]
  },
  {
   "cell_type": "markdown",
   "metadata": {},
   "source": [
    "Python offers something that allows us to define a specific structure that contains information we hold: a **class**. A class is an object and therefore has all of the object's characteristics: a name (class name), attributes (variables that belong to this object) & behaviour (functions that can be executed on this object and do something). Everything in Python is an object and we already used objects like string (name: string, attribute: text it contains, behaviour: functions like .split()) or lists (name: list, attribute: data it contains, behaviour: functions like .copy()). OOP means that we don't have to really know how those attributes and methods are defined but only need to know what we have to put in, to get a certain output.\n",
    "\n",
    "**A class acts like a BLUEPRINT/TEMPLATE for our structure and makes sure that every INSTANCE of this class follows said structure.**\n",
    "\n",
    "We define a class the following way. Here the `classname` corresponds to the type of this structure. The `init` method is not mandatory but usually defined because this function will be executed everytime a new instance of an object of this class is created (it can be invoked directly but that almost never makes sense):\n",
    "\n",
    "    class Classname:                              --> keyword + classname (allows us to name a structure intelligently)\n",
    "        def __init__(self, a, b, c):              --> method with name & parameters (remember to use SELF when necessary)\n",
    "            self.a = a                            --> self.XXX means that these variables are instance variables/attributes\n",
    "            self.b = b\n",
    "            self.c = c"
   ]
  },
  {
   "cell_type": "markdown",
   "metadata": {},
   "source": [
    "Considering the second disadvantage of dictionaries, classes allow us to easily change their values directly or with defined methods.\n",
    "\n",
    "The OOP way is using the method (**also in the __init__ method** to do the checks during the creation of the new instance) because this allows us to make a proper interface and hide variables (ENCAPSULATION) etc. that we don't want the user to access (that he doesn't need to understand but only needs to know the input & output) -> **this is a safer way to change attributes because we can include checks to prevent unlogical values**. In the OOP way we usually **name the variable** with a starting `_` (meaning PRIVATE) which is simply a naming convention that asks developers not to use this variable directly (however they can) but rather use the proper method (interface).\n",
    "\n",
    "ENCAPSULATION THEREFORE:\n",
    "* Protects objects from unwanted access (the data inside objects is only modified through methods that know how not to break the logic of the variable)\n",
    "* Allows Access to a level without revealing the complex details below (as a user of a class, you don’t have to know how the class is implemented, but only how to operate with it)\n",
    "* Reduces Human Error & Simplifies Maintenance & Makes Application Easier To Understand"
   ]
  },
  {
   "cell_type": "code",
   "execution_count": 49,
   "metadata": {},
   "outputs": [],
   "source": [
    "class Car:    \n",
    "    def __init__(self, brand, speed):\n",
    "        self._brand = brand\n",
    "        self.change_speed(speed)\n",
    "    def change_speed(self, speed):\n",
    "        self._speed = speed"
   ]
  },
  {
   "cell_type": "code",
   "execution_count": 50,
   "metadata": {},
   "outputs": [
    {
     "name": "stdout",
     "output_type": "stream",
     "text": [
      "0\n",
      "20\n",
      "50\n"
     ]
    }
   ],
   "source": [
    "A = Car(\"Hyundai\", 0)         #create the new instance\n",
    "print(A._speed)\n",
    "\n",
    "A._speed = 20                 #change the instance attribute/variable directly    \n",
    "print(A._speed)\n",
    "\n",
    "A.change_speed(50)            #change the instance attribute/variable through the method. THIS IS PROPER OOP STYLE.\n",
    "print(A._speed)"
   ]
  }
 ],
 "metadata": {
  "kernelspec": {
   "display_name": "Python 3",
   "language": "python",
   "name": "python3"
  },
  "language_info": {
   "codemirror_mode": {
    "name": "ipython",
    "version": 3
   },
   "file_extension": ".py",
   "mimetype": "text/x-python",
   "name": "python",
   "nbconvert_exporter": "python",
   "pygments_lexer": "ipython3",
   "version": "3.8.5"
  }
 },
 "nbformat": 4,
 "nbformat_minor": 4
}
