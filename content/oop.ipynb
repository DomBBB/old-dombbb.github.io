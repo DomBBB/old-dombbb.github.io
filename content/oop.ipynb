{
 "cells": [
  {
   "cell_type": "markdown",
   "metadata": {},
   "source": [
    "# Object Oriented Programming"
   ]
  },
  {
   "cell_type": "markdown",
   "metadata": {},
   "source": [
    "In other datatypes e.g. dictionaries we can hold information about entities that look very similar and have the same type of information inside. The problem is that we have the flexibility to store anything we want in a dictionary and **nobody forces us to always have the same information** (=more structured & less error prone). A further disadvantage is that these entities only hold data but can not do certain actions. Depending on the level of nested information it can also be very cumbersome to retrieve certain information from a dictionary / add a new entry to the dictionary."
   ]
  },
  {
   "cell_type": "markdown",
   "metadata": {},
   "source": [
    "Python offers something that allows us to define a specific structure that contains information we hold: a **class**. A class is an object and therefore has all of the object's characteristics: a name (class name), attributes (variables that belong to this object) & behaviour (functions that can be executed on this object and do something). Everything in Python is an object and we already used objects like string (name: string, attribute: text it contains, behaviour: functions like .split()) or lists (name: list, attribute: data it contains, behaviour: functions like .copy()). OOP means that we don't have to really know how those attributes and methods are defined but only need to know what we have to put in, to get a certain output.\n",
    "\n",
    "**A class acts like a BLUEPRINT/TEMPLATE for our structure and makes sure that every INSTANCE of this class follows said structure.**\n",
    "\n",
    "We define a class the following way. Here the `classname` corresponds to the type of this structure. The `init` method is not mandatory but usually defined because this function will be executed everytime a new instance of an object of this class is created (it can be invoked directly but that almost never makes sense):\n",
    "\n",
    "    class Classname:                              --> keyword + classname (allows us to name a structure intelligently)\n",
    "        def __init__(self, a, b, c):              --> method with name & parameters (remember to use SELF when necessary)\n",
    "            self.a = a                            --> self.XXX means that these variables are instance variables/attributes\n",
    "            self.b = b\n",
    "            self.c = c"
   ]
  },
  {
   "cell_type": "markdown",
   "metadata": {},
   "source": [
    "Considering the second disadvantage of dictionaries, classes allow us to easily change their values directly or with defined methods.\n",
    "\n",
    "The OOP way is using the method (**also in the __init__ method** to do the checks during the creation of the new instance) because this allows us to make a proper interface and hide variables (ENCAPSULATION) etc. that we don't want the user to access (that he doesn't need to understand but only needs to know the input & output) -> **this is a safer way to change attributes because we can include checks to prevent unlogical values**. In the OOP way we usually **name the variable** with a starting `_` (meaning PRIVATE) which is simply a naming convention that asks developers not to use this variable directly (however they can) but rather use the proper method (interface).\n",
    "\n",
    "ENCAPSULATION THEREFORE:\n",
    "* Protects objects from unwanted access (the data inside objects is only modified through methods that know how not to break the logic of the variable)\n",
    "* Allows Access to a level without revealing the complex details below (as a user of a class, you don’t have to know how the class is implemented, but only how to operate with it)\n",
    "* Reduces Human Error & Simplifies Maintenance & Makes Application Easier To Understand"
   ]
  },
  {
   "cell_type": "markdown",
   "metadata": {},
   "source": [
    "# Creating and using a Class"
   ]
  },
  {
   "cell_type": "markdown",
   "metadata": {},
   "source": [
    "Let's create a very simple class that only prints something when an **instance/object** of this class is created."
   ]
  },
  {
   "cell_type": "code",
   "execution_count": 38,
   "metadata": {},
   "outputs": [
    {
     "name": "stdout",
     "output_type": "stream",
     "text": [
      "Hello World\n",
      "<__main__.Simple object at 0x0000023E976055E0>\n"
     ]
    }
   ],
   "source": [
    "class Simple:\n",
    "    print(\"Hello World\")\n",
    "\n",
    "simple = Simple()\n",
    "print(simple)"
   ]
  },
  {
   "cell_type": "markdown",
   "metadata": {},
   "source": [
    "Let's give this class some attributes (variable values):"
   ]
  },
  {
   "cell_type": "code",
   "execution_count": 39,
   "metadata": {},
   "outputs": [
    {
     "name": "stdout",
     "output_type": "stream",
     "text": [
      "Hello World\n",
      "<__main__.Simple object at 0x0000023E976056A0>\n",
      "123 1\n",
      "<__main__.Simple object at 0x0000023E976058B0>\n",
      "123 1\n"
     ]
    }
   ],
   "source": [
    "class Simple:\n",
    "    print(\"Hello World\")\n",
    "    x = 123\n",
    "    counter = 0\n",
    "    counter += 1\n",
    "    \n",
    "simple = Simple()\n",
    "print(simple)\n",
    "print(simple.x, simple.counter)\n",
    "\n",
    "simple2 = Simple()\n",
    "print(simple2)\n",
    "print(simple2.x, simple2.counter)"
   ]
  },
  {
   "cell_type": "markdown",
   "metadata": {},
   "source": [
    "Let's give the object some attributes (variable values):"
   ]
  },
  {
   "cell_type": "code",
   "execution_count": 40,
   "metadata": {},
   "outputs": [
    {
     "name": "stdout",
     "output_type": "stream",
     "text": [
      "Hello World\n",
      "<__main__.Advanced object at 0x0000023E974D3850>\n",
      "123 456 789\n"
     ]
    }
   ],
   "source": [
    "class Advanced:\n",
    "    print(\"Hello World\")\n",
    "    counter = 0\n",
    "    \n",
    "    def __init__(self, x, y, z):\n",
    "        self.x = x\n",
    "        self._y = y\n",
    "        self.__z = z\n",
    "\n",
    "adv = Advanced(123, 456, 789)\n",
    "print(adv)\n",
    "print(adv.x, adv._y, adv._Advanced__z)"
   ]
  },
  {
   "cell_type": "markdown",
   "metadata": {},
   "source": [
    "Let's fix our print-function (EXCURSUS F-STRINGS):"
   ]
  },
  {
   "cell_type": "code",
   "execution_count": 41,
   "metadata": {},
   "outputs": [
    {
     "name": "stdout",
     "output_type": "stream",
     "text": [
      "Hello World\n",
      "This is an instance of the class Advanced. It has the values: x=123 and y=456.\n",
      "Values: 123, 456\n"
     ]
    }
   ],
   "source": [
    "class Advanced:\n",
    "    print(\"Hello World\")\n",
    "    counter = 0\n",
    "    \n",
    "    def __init__(self, x, y, z):\n",
    "        self.x = x\n",
    "        self._y = y\n",
    "        self.__z = z\n",
    "    \n",
    "    def __str__(self):\n",
    "        return \"This is an instance of the class Advanced. It has the values: x=\" + str(self.x) + \" and y=\" + str(self._y) + \".\"\n",
    "        \n",
    "    def __repr__(self): # https://www.programiz.com/python-programming/methods/built-in/repr\n",
    "        return f\"Values: {self.x}, {self._y}\"\n",
    "\n",
    "adv = Advanced(123, 456, 789)\n",
    "print(adv)\n",
    "print(repr(adv))"
   ]
  },
  {
   "cell_type": "markdown",
   "metadata": {},
   "source": [
    "Let's change these attributes directly:"
   ]
  },
  {
   "cell_type": "code",
   "execution_count": 42,
   "metadata": {},
   "outputs": [
    {
     "name": "stdout",
     "output_type": "stream",
     "text": [
      "This is an instance of the class Advanced. It has the values: x=Hello and y=World.\n",
      "Hello World How are you?\n"
     ]
    }
   ],
   "source": [
    "adv.x = \"Hello\"\n",
    "adv._y = \"World\"\n",
    "adv._Advanced__z = \"How are you?\"\n",
    "\n",
    "print(adv)\n",
    "print(adv.x, adv._y, adv._Advanced__z)"
   ]
  },
  {
   "cell_type": "markdown",
   "metadata": {},
   "source": [
    "Let's do it the OOP way:"
   ]
  },
  {
   "cell_type": "code",
   "execution_count": 44,
   "metadata": {},
   "outputs": [
    {
     "name": "stdout",
     "output_type": "stream",
     "text": [
      "Hello World\n",
      "0 0\n",
      "secret\n",
      "25 2\n",
      "3\n"
     ]
    }
   ],
   "source": [
    "class Advanced:\n",
    "    print(\"Hello World\")\n",
    "    counter = 0\n",
    "    \n",
    "    def __init__(self, x=0, y=0, z=\"secret\"):\n",
    "        Advanced.counter += 1\n",
    "        self._x = x\n",
    "        self._y = y\n",
    "        self.__z = z\n",
    "    \n",
    "    def change_x(self, new_x):\n",
    "        self._x = new_x\n",
    "    \n",
    "    def change_y(self):\n",
    "        if self._x > 0:\n",
    "            self._y += 2\n",
    "        else:\n",
    "            self._y -= 2\n",
    "    \n",
    "    def print_z(self):\n",
    "        print(self.__z)\n",
    "            \n",
    "adv = Advanced(0, 0)\n",
    "print(adv._x, adv._y)\n",
    "adv.change_x(25)\n",
    "adv.change_y()\n",
    "adv.print_z()\n",
    "print(adv._x, adv._y)\n",
    "\n",
    "adv2 = Advanced()\n",
    "adv3 = Advanced()\n",
    "print(Advanced.counter)"
   ]
  },
  {
   "cell_type": "markdown",
   "metadata": {},
   "source": [
    "Let's create a child class:"
   ]
  },
  {
   "cell_type": "code",
   "execution_count": 25,
   "metadata": {},
   "outputs": [
    {
     "name": "stdout",
     "output_type": "stream",
     "text": [
      "0 0\n",
      "secret\n",
      "25 2\n",
      "4\n"
     ]
    }
   ],
   "source": [
    "class Child(Advanced):\n",
    "    pass\n",
    "\n",
    "child = Child(0, 0)\n",
    "print(child._x, child._y)\n",
    "child.change_x(25)\n",
    "child.change_y()\n",
    "child.print_z()\n",
    "print(child._x, child._y)\n",
    "print(Advanced.counter)"
   ]
  },
  {
   "cell_type": "markdown",
   "metadata": {},
   "source": [
    "Let's access the __init__ method from the parent:"
   ]
  },
  {
   "cell_type": "code",
   "execution_count": 27,
   "metadata": {},
   "outputs": [
    {
     "name": "stdout",
     "output_type": "stream",
     "text": [
      "new_secret\n"
     ]
    }
   ],
   "source": [
    "class Child(Advanced):\n",
    "    \n",
    "    def __init__(self, new):\n",
    "        super().__init__(0, 0, new)\n",
    "\n",
    "child = Child(\"new_secret\")\n",
    "child.print_z()"
   ]
  }
 ],
 "metadata": {
  "kernelspec": {
   "display_name": "Python 3",
   "language": "python",
   "name": "python3"
  },
  "language_info": {
   "codemirror_mode": {
    "name": "ipython",
    "version": 3
   },
   "file_extension": ".py",
   "mimetype": "text/x-python",
   "name": "python",
   "nbconvert_exporter": "python",
   "pygments_lexer": "ipython3",
   "version": "3.8.5"
  }
 },
 "nbformat": 4,
 "nbformat_minor": 4
}
